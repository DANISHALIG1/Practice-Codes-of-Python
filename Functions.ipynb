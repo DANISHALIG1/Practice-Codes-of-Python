{
 "cells": [
  {
   "cell_type": "markdown",
   "id": "12a7ac9c-fdd4-49f6-b9a4-90bc13115bc8",
   "metadata": {},
   "source": [
    "# FUNCTIONS"
   ]
  },
  {
   "cell_type": "code",
   "execution_count": 1,
   "id": "d5cee739-a4c0-4ad3-866a-c5f2de1a4ffd",
   "metadata": {},
   "outputs": [],
   "source": [
    "def test():\n",
    "    pass\n",
    "\n",
    "## def keyword is used to define a function\n",
    "## test is the name of the function\n",
    "## if the function doesn't return anything give pass"
   ]
  },
  {
   "cell_type": "code",
   "execution_count": 6,
   "id": "40f04e18-3e59-4b50-b40c-3fe49e9d0402",
   "metadata": {},
   "outputs": [
    {
     "data": {
      "text/plain": [
       "NoneType"
      ]
     },
     "execution_count": 6,
     "metadata": {},
     "output_type": "execute_result"
    }
   ],
   "source": [
    "type(test())"
   ]
  },
  {
   "cell_type": "code",
   "execution_count": 7,
   "id": "79e131b7-25ef-488d-b9c3-8c4c3a8d44a3",
   "metadata": {},
   "outputs": [],
   "source": [
    "def swimming():\n",
    "    a = 1\n",
    "    b = 6\n",
    "    print(a+b)"
   ]
  },
  {
   "cell_type": "code",
   "execution_count": 8,
   "id": "4dc7551f-a396-45b0-a62e-add0484a2ef2",
   "metadata": {},
   "outputs": [
    {
     "name": "stdout",
     "output_type": "stream",
     "text": [
      "7\n"
     ]
    }
   ],
   "source": [
    "swimming() # for calling a function just type function as it is with bracket"
   ]
  },
  {
   "cell_type": "code",
   "execution_count": 12,
   "id": "42740911-2ff5-4b93-9d54-a224b704c81b",
   "metadata": {},
   "outputs": [
    {
     "data": {
      "text/plain": [
       "(11, -1, 30, 0.8333333333333334, 5, 0)"
      ]
     },
     "execution_count": 12,
     "metadata": {},
     "output_type": "execute_result"
    }
   ],
   "source": [
    "def test(a,b):\n",
    "    return a+b, a-b, a*b, a/b, a%b, a//b\n",
    "test(5,6)"
   ]
  },
  {
   "cell_type": "code",
   "execution_count": 17,
   "id": "8c8e7708-0f8b-4bb8-9f41-d44564cfa3d7",
   "metadata": {},
   "outputs": [],
   "source": [
    "def testing():\n",
    "    return \"Danish\", [4,5,6,7], {'key1':45, 'key2':90}"
   ]
  },
  {
   "cell_type": "code",
   "execution_count": 18,
   "id": "c6ec9a69-1b54-42f5-9019-9943c2b8fcc2",
   "metadata": {},
   "outputs": [
    {
     "data": {
      "text/plain": [
       "('Danish', [4, 5, 6, 7], {'key1': 45, 'key2': 90})"
      ]
     },
     "execution_count": 18,
     "metadata": {},
     "output_type": "execute_result"
    }
   ],
   "source": [
    "testing()"
   ]
  },
  {
   "cell_type": "code",
   "execution_count": 1,
   "id": "e2d1aedd-d317-4d6e-b91a-5f393a485553",
   "metadata": {},
   "outputs": [],
   "source": [
    "# Checking prime number by function\n",
    "\n",
    "def is_prime(num):\n",
    "    for i in range(2,num):\n",
    "        if num % i == 0:\n",
    "            print(num, \" is not a prime number.\")\n",
    "            break\n",
    "    else:\n",
    "        print(num, \" is prime number.\")"
   ]
  },
  {
   "cell_type": "code",
   "execution_count": 2,
   "id": "317aef6d-104e-4749-89c9-b4de70760ba5",
   "metadata": {},
   "outputs": [
    {
     "name": "stdout",
     "output_type": "stream",
     "text": [
      "23  is prime number.\n"
     ]
    }
   ],
   "source": [
    "is_prime(23)"
   ]
  },
  {
   "cell_type": "code",
   "execution_count": null,
   "id": "52425810-2d50-4d1a-99b9-d7e41b4497c7",
   "metadata": {},
   "outputs": [],
   "source": [
    "# task is to remove all the repititive number say '5' from a list and save it in an empty list the newly created one without duplicates \n",
    "# list_items = [4,5,6,7,8,9,[4,5,6,7,7,5]]"
   ]
  },
  {
   "cell_type": "code",
   "execution_count": 12,
   "id": "99edea93-65d5-4cc6-901d-a897357fc025",
   "metadata": {},
   "outputs": [],
   "source": [
    "list_items = [4, 5, 6, 7, 8, 9, [4, 5, 6, 7, 7, 5]]"
   ]
  },
  {
   "cell_type": "code",
   "execution_count": 13,
   "id": "42066f70-016f-446a-9189-671c6fddfb9e",
   "metadata": {},
   "outputs": [
    {
     "data": {
      "text/plain": [
       "[4, 5, 6, 7, 8, 9, [4, 5, 6, 7, 7, 5]]"
      ]
     },
     "execution_count": 13,
     "metadata": {},
     "output_type": "execute_result"
    }
   ],
   "source": [
    "list_items"
   ]
  },
  {
   "cell_type": "code",
   "execution_count": 15,
   "id": "2d57f404-4741-41fb-b042-e6d00c09f58b",
   "metadata": {},
   "outputs": [
    {
     "name": "stdin",
     "output_type": "stream",
     "text": [
      "Enter the number to delete from list_item : \n",
      " 5\n"
     ]
    },
    {
     "name": "stdout",
     "output_type": "stream",
     "text": [
      "[4, 6, 7, 8, 9, [4, 6, 7, 7]]\n"
     ]
    }
   ],
   "source": [
    "## list_items = [4, 5, 6, 7, 8, 9, [4, 5, 6, 7, 7, 5]]\n",
    "\n",
    "\n",
    "cust_num = int(input(\"Enter the number to delete from list_item : \\n\"))\n",
    "new_list = []\n",
    "\n",
    "for i in list_items:\n",
    "    if i == cust_num:\n",
    "        list_items.remove(i)\n",
    "    if type(i) == list:\n",
    "        for j in i:\n",
    "            if j == cust_num:\n",
    "                i.remove(j)\n",
    "print(list_items)\n",
    "            "
   ]
  },
  {
   "cell_type": "code",
   "execution_count": 16,
   "id": "2cbe4701-68b4-4b9c-ae69-72deb415544b",
   "metadata": {},
   "outputs": [],
   "source": [
    "from functools import reduce"
   ]
  },
  {
   "cell_type": "code",
   "execution_count": 17,
   "id": "bbf49652-b14a-4c74-9fc2-7e2894a529e5",
   "metadata": {},
   "outputs": [],
   "source": [
    "def summation(a,b):\n",
    "    return(a+b)"
   ]
  },
  {
   "cell_type": "code",
   "execution_count": 18,
   "id": "a434b4cf-fef5-40e4-9b62-737065a8dad7",
   "metadata": {},
   "outputs": [
    {
     "data": {
      "text/plain": [
       "39"
      ]
     },
     "execution_count": 18,
     "metadata": {},
     "output_type": "execute_result"
    }
   ],
   "source": [
    "list_item = [4,5,6,7,8,9]  ## reduce function only work for the two arguments\n",
    "reduce(summation,list_item)"
   ]
  },
  {
   "cell_type": "markdown",
   "id": "26991ee9-3f37-4841-ab98-d7e4653f37cb",
   "metadata": {},
   "source": [
    "# MAP Function"
   ]
  },
  {
   "cell_type": "code",
   "execution_count": 27,
   "id": "b466412a-2127-4e4c-8b63-704fd591f113",
   "metadata": {},
   "outputs": [],
   "source": [
    "def square(num):\n",
    "    return num ** 2"
   ]
  },
  {
   "cell_type": "code",
   "execution_count": 28,
   "id": "58ce8115-be51-4d5c-9c4c-3ff605ebc361",
   "metadata": {},
   "outputs": [
    {
     "data": {
      "text/plain": [
       "25"
      ]
     },
     "execution_count": 28,
     "metadata": {},
     "output_type": "execute_result"
    }
   ],
   "source": [
    "square(5)"
   ]
  },
  {
   "cell_type": "code",
   "execution_count": 33,
   "id": "fe7bd7ab-5bb6-4d99-a181-781b79fb02e1",
   "metadata": {},
   "outputs": [],
   "source": [
    "def cube(num):\n",
    "    return num ** 3"
   ]
  },
  {
   "cell_type": "code",
   "execution_count": 34,
   "id": "105e504e-7c50-45f6-b0a4-db7d069096e1",
   "metadata": {},
   "outputs": [
    {
     "data": {
      "text/plain": [
       "27"
      ]
     },
     "execution_count": 34,
     "metadata": {},
     "output_type": "execute_result"
    }
   ],
   "source": [
    "cube(3)"
   ]
  },
  {
   "cell_type": "code",
   "execution_count": 30,
   "id": "2c78c42e-e843-4271-871f-3c3fe9febed0",
   "metadata": {},
   "outputs": [
    {
     "data": {
      "text/plain": [
       "[1, 2, 3, 4, 5, 6, 7, 8, 9]"
      ]
     },
     "execution_count": 30,
     "metadata": {},
     "output_type": "execute_result"
    }
   ],
   "source": [
    "list_item = [1,2,3,4,5,6,7,8,9]\n",
    "list_item"
   ]
  },
  {
   "cell_type": "code",
   "execution_count": 31,
   "id": "e1d87831-314f-455d-b9b9-c0f215a3abda",
   "metadata": {},
   "outputs": [
    {
     "data": {
      "text/plain": [
       "[1, 4, 9, 16, 25, 36, 49, 64, 81]"
      ]
     },
     "execution_count": 31,
     "metadata": {},
     "output_type": "execute_result"
    }
   ],
   "source": [
    "list(map(square,list_item))"
   ]
  },
  {
   "cell_type": "code",
   "execution_count": 41,
   "id": "fc1815ac-0c50-45f5-93e9-9579a4ac04ca",
   "metadata": {},
   "outputs": [
    {
     "name": "stdout",
     "output_type": "stream",
     "text": [
      "1\n",
      "4\n",
      "9\n",
      "16\n",
      "25\n",
      "36\n",
      "49\n",
      "64\n",
      "81\n"
     ]
    }
   ],
   "source": [
    "for var in map(square,list_item):\n",
    "    print(var)"
   ]
  },
  {
   "cell_type": "code",
   "execution_count": 35,
   "id": "0e2ceb2e-9439-45d4-a118-e497ba91c8a8",
   "metadata": {},
   "outputs": [
    {
     "data": {
      "text/plain": [
       "[1, 8, 27, 64, 125, 216, 343, 512, 729]"
      ]
     },
     "execution_count": 35,
     "metadata": {},
     "output_type": "execute_result"
    }
   ],
   "source": [
    "list(map(cube,list_item))"
   ]
  },
  {
   "cell_type": "code",
   "execution_count": 40,
   "id": "9eb3cce2-a196-45a2-bb97-d4a3e7cd5755",
   "metadata": {},
   "outputs": [
    {
     "name": "stdout",
     "output_type": "stream",
     "text": [
      "1\n",
      "8\n",
      "27\n",
      "64\n",
      "125\n",
      "216\n",
      "343\n",
      "512\n",
      "729\n"
     ]
    }
   ],
   "source": [
    "for var in map(cube,list_item):\n",
    "    print(var)"
   ]
  },
  {
   "cell_type": "code",
   "execution_count": 37,
   "id": "23872771-7a72-4eb5-bea8-bfd2d06f31ce",
   "metadata": {},
   "outputs": [],
   "source": [
    "def summation(x,y,z):\n",
    "    return x+y+z"
   ]
  },
  {
   "cell_type": "code",
   "execution_count": 38,
   "id": "df1eec6b-14bc-4777-b11f-e6e74c2831a3",
   "metadata": {},
   "outputs": [
    {
     "data": {
      "text/plain": [
       "24"
      ]
     },
     "execution_count": 38,
     "metadata": {},
     "output_type": "execute_result"
    }
   ],
   "source": [
    "summation(4,9,11)"
   ]
  },
  {
   "cell_type": "code",
   "execution_count": 39,
   "id": "a6b589de-c358-4378-a97b-2c9e0214f341",
   "metadata": {},
   "outputs": [
    {
     "data": {
      "text/plain": [
       "[7, 11, 16, 21]"
      ]
     },
     "execution_count": 39,
     "metadata": {},
     "output_type": "execute_result"
    }
   ],
   "source": [
    "a = [1,2,3,4,5] ## it will add indexwise\n",
    "b = [5,6,7,8]\n",
    "c = [1,3,6,9]\n",
    "\n",
    "list(map(summation,a,b,c))"
   ]
  },
  {
   "cell_type": "markdown",
   "id": "5eaab035-939a-44c7-9c8c-52c854ab18c8",
   "metadata": {},
   "source": [
    "# LAMBDA Function\n",
    "Its a annonymous function/ in-line function/ function without name"
   ]
  },
  {
   "cell_type": "code",
   "execution_count": 49,
   "id": "c00c4237-0f49-4d3e-8585-139f8b4ed94b",
   "metadata": {},
   "outputs": [
    {
     "data": {
      "text/plain": [
       "[1, 2, 3, 4, 5, 5, 6, 6, 7, 8, 3, 9]"
      ]
     },
     "execution_count": 49,
     "metadata": {},
     "output_type": "execute_result"
    }
   ],
   "source": [
    "list_item = [1,2,3,4,5,5,6,6,7,8,3,9]\n",
    "list_item"
   ]
  },
  {
   "cell_type": "code",
   "execution_count": 46,
   "id": "af76b2f7-5750-4375-ae6e-68ae61e5df6c",
   "metadata": {},
   "outputs": [
    {
     "data": {
      "text/plain": [
       "[1, 4, 9, 16, 25, 25, 36, 36, 49, 64, 9, 81]"
      ]
     },
     "execution_count": 46,
     "metadata": {},
     "output_type": "execute_result"
    }
   ],
   "source": [
    "list(map(lambda x : x**2 , list_item))"
   ]
  },
  {
   "cell_type": "code",
   "execution_count": 51,
   "id": "7698a88d-c6f0-41b8-87a4-a874aad513a7",
   "metadata": {},
   "outputs": [
    {
     "data": {
      "text/plain": [
       "[1.5, 3.0, 4.5, 6.0, 7.5, 7.5, 9.0, 9.0, 10.5, 12.0, 4.5, 13.5]"
      ]
     },
     "execution_count": 51,
     "metadata": {},
     "output_type": "execute_result"
    }
   ],
   "source": [
    "list(map(lambda x : x*1.5, list_item))"
   ]
  },
  {
   "cell_type": "code",
   "execution_count": 54,
   "id": "23ea4cc8-57b8-45bc-ad94-1c617ba9f1d4",
   "metadata": {},
   "outputs": [
    {
     "data": {
      "text/plain": [
       "[7, 11, 16, 21]"
      ]
     },
     "execution_count": 54,
     "metadata": {},
     "output_type": "execute_result"
    }
   ],
   "source": [
    "a = [1,2,3,4,5] ## it will add indexwise\n",
    "b = [5,6,7,8]\n",
    "c = [1,3,6,9]\n",
    "\n",
    "list(map(lambda x,y,z : x+y+z, a,b,c))"
   ]
  },
  {
   "cell_type": "markdown",
   "id": "5cf2ae38-51a3-4219-81ce-c8dd2c96d8dc",
   "metadata": {},
   "source": [
    "# FILTER Function"
   ]
  },
  {
   "cell_type": "code",
   "execution_count": 66,
   "id": "e9b1a692-2e66-48a9-a071-ad4ad5fc1091",
   "metadata": {},
   "outputs": [],
   "source": [
    "list_item = [2,3,4,4,5,66,7,8,8,9,22,25,7,77] "
   ]
  },
  {
   "cell_type": "code",
   "execution_count": 59,
   "id": "55dff792-8c2c-4a6e-83ec-030e7316e496",
   "metadata": {},
   "outputs": [
    {
     "data": {
      "text/plain": [
       "[2, 4, 4, 66, 8, 8, 22]"
      ]
     },
     "execution_count": 59,
     "metadata": {},
     "output_type": "execute_result"
    }
   ],
   "source": [
    "list(filter(lambda x : x%2 == 0, list_item )) ## filtering even numbers"
   ]
  },
  {
   "cell_type": "code",
   "execution_count": 61,
   "id": "6128910c-1490-49d1-8e93-f1e6bbb5710d",
   "metadata": {},
   "outputs": [
    {
     "data": {
      "text/plain": [
       "[3, 5, 7, 9, 25, 7, 77]"
      ]
     },
     "execution_count": 61,
     "metadata": {},
     "output_type": "execute_result"
    }
   ],
   "source": [
    "list(filter(lambda x : x%2 != 0, list_item )) ## filtering odd numbers"
   ]
  },
  {
   "cell_type": "code",
   "execution_count": 63,
   "id": "74b62d98-f523-48ce-bf0e-75a6e57a6297",
   "metadata": {},
   "outputs": [],
   "source": [
    "def even_check(num):\n",
    "    if num%2 == 0:\n",
    "        return True"
   ]
  },
  {
   "cell_type": "code",
   "execution_count": 67,
   "id": "7092fc65-467f-430c-86ed-28a202f91ef9",
   "metadata": {},
   "outputs": [
    {
     "data": {
      "text/plain": [
       "[2, 4, 4, 66, 8, 8, 22]"
      ]
     },
     "execution_count": 67,
     "metadata": {},
     "output_type": "execute_result"
    }
   ],
   "source": [
    "list(filter(even_check, list_item )) ## filtering odd numbers"
   ]
  },
  {
   "cell_type": "code",
   "execution_count": 69,
   "id": "a80e19b5-3857-4ca6-974b-833922d06d25",
   "metadata": {},
   "outputs": [
    {
     "data": {
      "text/plain": [
       "[2, 3, 4, 4, 5, 66, 7, 8, 8, 9, 22, 25, 7, 77]"
      ]
     },
     "execution_count": 69,
     "metadata": {},
     "output_type": "execute_result"
    }
   ],
   "source": [
    "list_item = [2,3,4,4,5,66,7,8,8,9,22,25,7,77] \n",
    "list_item"
   ]
  },
  {
   "cell_type": "code",
   "execution_count": 70,
   "id": "af0106dc-334b-4eee-be55-a7f0bc9f10b0",
   "metadata": {},
   "outputs": [
    {
     "data": {
      "text/plain": [
       "247"
      ]
     },
     "execution_count": 70,
     "metadata": {},
     "output_type": "execute_result"
    }
   ],
   "source": [
    "reduce(lambda x,y : x+y, list_item)"
   ]
  },
  {
   "cell_type": "code",
   "execution_count": null,
   "id": "ae8fec13-287e-45ff-b9ae-76b96e450b86",
   "metadata": {},
   "outputs": [],
   "source": []
  }
 ],
 "metadata": {
  "kernelspec": {
   "display_name": "Python 3 (ipykernel)",
   "language": "python",
   "name": "python3"
  },
  "language_info": {
   "codemirror_mode": {
    "name": "ipython",
    "version": 3
   },
   "file_extension": ".py",
   "mimetype": "text/x-python",
   "name": "python",
   "nbconvert_exporter": "python",
   "pygments_lexer": "ipython3",
   "version": "3.12.7"
  }
 },
 "nbformat": 4,
 "nbformat_minor": 5
}
