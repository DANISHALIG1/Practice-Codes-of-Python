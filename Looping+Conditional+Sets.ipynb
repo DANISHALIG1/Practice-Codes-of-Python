{
 "cells": [
  {
   "cell_type": "markdown",
   "id": "8d286775-02ff-40bc-bfbc-603e9b14a6b6",
   "metadata": {},
   "source": [
    "# Condional"
   ]
  },
  {
   "cell_type": "code",
   "execution_count": 6,
   "id": "c084115f-b6f6-4a92-b2d5-8afa17fa4be5",
   "metadata": {},
   "outputs": [
    {
     "name": "stdin",
     "output_type": "stream",
     "text": [
      "Enter a integer\n",
      " 5\n"
     ]
    },
    {
     "name": "stdout",
     "output_type": "stream",
     "text": [
      "Your guess is incorrect\n",
      "\n"
     ]
    }
   ],
   "source": [
    "import random\n",
    "\n",
    "#generate any random number between 1 to 10\n",
    "number = random.randint(1,10)\n",
    "\n",
    "guess = int(input(\"Enter a integer\\n\"))\n",
    "if guess == number :\n",
    "    print(\"Your guess is correct\\n\")\n",
    "else :\n",
    "    print(\"Your guess is incorrect\\n\")"
   ]
  },
  {
   "cell_type": "code",
   "execution_count": null,
   "id": "71394706-27e8-42a6-bb5b-7e0a1eaacf44",
   "metadata": {},
   "outputs": [],
   "source": [
    "# Boolean Expression -- Expression that returs true or false"
   ]
  },
  {
   "cell_type": "code",
   "execution_count": 7,
   "id": "bb05c72b-3793-457c-80f4-59522de70bba",
   "metadata": {},
   "outputs": [
    {
     "data": {
      "text/plain": [
       "True"
      ]
     },
     "execution_count": 7,
     "metadata": {},
     "output_type": "execute_result"
    }
   ],
   "source": [
    "12 == 12"
   ]
  },
  {
   "cell_type": "code",
   "execution_count": 8,
   "id": "742a242f-7e83-4bed-9b4a-096a3f205673",
   "metadata": {},
   "outputs": [
    {
     "data": {
      "text/plain": [
       "False"
      ]
     },
     "execution_count": 8,
     "metadata": {},
     "output_type": "execute_result"
    }
   ],
   "source": [
    "12 == 13"
   ]
  },
  {
   "cell_type": "code",
   "execution_count": 12,
   "id": "015fb626-dea2-4575-a5ae-b6e49aa12252",
   "metadata": {},
   "outputs": [],
   "source": [
    "x = 5\n",
    "y= 6\n"
   ]
  },
  {
   "cell_type": "code",
   "execution_count": 13,
   "id": "4febedce-3763-44f8-a02d-607c0ed29551",
   "metadata": {},
   "outputs": [
    {
     "data": {
      "text/plain": [
       "False"
      ]
     },
     "execution_count": 13,
     "metadata": {},
     "output_type": "execute_result"
    }
   ],
   "source": [
    "x == y"
   ]
  },
  {
   "cell_type": "code",
   "execution_count": 14,
   "id": "0384a89f-c97a-426e-a557-eb4f52f752e8",
   "metadata": {},
   "outputs": [
    {
     "data": {
      "text/plain": [
       "True"
      ]
     },
     "execution_count": 14,
     "metadata": {},
     "output_type": "execute_result"
    }
   ],
   "source": [
    "x != y"
   ]
  },
  {
   "cell_type": "code",
   "execution_count": 15,
   "id": "c6b84285-13de-46f7-8482-786732c0d83d",
   "metadata": {},
   "outputs": [
    {
     "data": {
      "text/plain": [
       "True"
      ]
     },
     "execution_count": 15,
     "metadata": {},
     "output_type": "execute_result"
    }
   ],
   "source": [
    "x > 4 and y > 5 "
   ]
  },
  {
   "cell_type": "code",
   "execution_count": 16,
   "id": "65fe9557-27f2-4173-821f-decfab15d842",
   "metadata": {},
   "outputs": [
    {
     "data": {
      "text/plain": [
       "True"
      ]
     },
     "execution_count": 16,
     "metadata": {},
     "output_type": "execute_result"
    }
   ],
   "source": [
    "x > 4 or y < 5 "
   ]
  },
  {
   "cell_type": "code",
   "execution_count": 19,
   "id": "2190889a-f9f7-4fa2-8d8e-94e1d240740e",
   "metadata": {},
   "outputs": [
    {
     "name": "stdin",
     "output_type": "stream",
     "text": [
      "Enter the number\n",
      " 13\n"
     ]
    },
    {
     "name": "stdout",
     "output_type": "stream",
     "text": [
      "13  is odd number\n"
     ]
    }
   ],
   "source": [
    "number = int(input(\"Enter the number\\n\"))\n",
    "\n",
    "if number % 2 == 0 :\n",
    "    print(number, \" is Even number\")\n",
    "else :\n",
    "    print(number, \" is odd number\")"
   ]
  },
  {
   "cell_type": "code",
   "execution_count": 20,
   "id": "489cb607-c533-4ec7-b48e-05ebc150b7f8",
   "metadata": {},
   "outputs": [
    {
     "name": "stdin",
     "output_type": "stream",
     "text": [
      "Enter the number\n",
      " 12\n"
     ]
    },
    {
     "name": "stdout",
     "output_type": "stream",
     "text": [
      "you have entered  12\n",
      "12  is Even number\n"
     ]
    }
   ],
   "source": [
    "number = int(input(\"Enter the number\\n\"))\n",
    "\n",
    "if number % 2 == 0 :\n",
    "    print(\"you have entered \", number)\n",
    "    print(number, \" is Even number\")\n",
    "else :\n",
    "    print(\"you have entered \", number)\n",
    "    print(number, \" is odd number\")"
   ]
  },
  {
   "cell_type": "code",
   "execution_count": 21,
   "id": "0ba0d952-dab1-426a-82cd-399bea331f73",
   "metadata": {},
   "outputs": [
    {
     "name": "stdin",
     "output_type": "stream",
     "text": [
      "Enter the marks\n",
      " 12\n"
     ]
    },
    {
     "name": "stdout",
     "output_type": "stream",
     "text": [
      "Sorry! You failed\n"
     ]
    }
   ],
   "source": [
    "marks = eval(input(\"Enter the marks\\n\"))\n",
    "\n",
    "if marks < 0 or marks > 100 :\n",
    "    print(\"You have entered invalid marks\")\n",
    "elif marks >= 0 and marks < 35 :\n",
    "    print(\"Sorry! You failed\")\n",
    "elif marks >= 35 and marks < 80 :\n",
    "    print(\"You passed in first class\")\n",
    "else :\n",
    "    print(\"You got Distinction\")\n"
   ]
  },
  {
   "cell_type": "code",
   "execution_count": 25,
   "id": "c7f6cd46-b1f3-4c45-b01a-de25d63361b7",
   "metadata": {},
   "outputs": [
    {
     "name": "stdin",
     "output_type": "stream",
     "text": [
      "Enter the marks\n",
      " 60\n"
     ]
    },
    {
     "name": "stdout",
     "output_type": "stream",
     "text": [
      "You got C Grade\n"
     ]
    }
   ],
   "source": [
    "marks = eval(input(\"Enter the marks\\n\"))\n",
    "\n",
    "if marks < 0 or marks > 100 :\n",
    "    print(\"You have entered invalid marks\")\n",
    "elif marks >= 95 :\n",
    "    print(\"You got A+ Grade\")\n",
    "elif marks >= 90 and marks < 95 :\n",
    "    print(\"You got A Grade\")\n",
    "elif marks >= 80 and marks < 90 :\n",
    "    print(\"You got B+ Grade\")\n",
    "elif marks >= 70 and marks < 80 :\n",
    "    print(\"You got B Grade\")\n",
    "elif marks >= 60 and marks < 70 :\n",
    "    print(\"You got C Grade\")\n",
    "elif marks >= 50 and marks < 60 :\n",
    "    print(\"You got D Grade\")\n",
    "elif marks >= 40 and marks < 50 :\n",
    "    print(\"You just Passed\")\n",
    "else :\n",
    "    print(\"Sorry! You failed\")"
   ]
  },
  {
   "cell_type": "code",
   "execution_count": null,
   "id": "dcab0d1b-9304-4b45-b149-629113c0d973",
   "metadata": {},
   "outputs": [],
   "source": [
    "# Nested Condition -- one condition can be nested within second condition"
   ]
  },
  {
   "cell_type": "code",
   "execution_count": 26,
   "id": "b23a71db-2af5-448b-b3b1-c2a66e84475c",
   "metadata": {},
   "outputs": [
    {
     "name": "stdin",
     "output_type": "stream",
     "text": [
      "Enter the first number\n",
      " 12\n",
      "Enter the second number\n",
      " 14\n"
     ]
    },
    {
     "name": "stdout",
     "output_type": "stream",
     "text": [
      "First number is smaller than second number\n"
     ]
    }
   ],
   "source": [
    "number1 = eval(input(\"Enter the first number\\n\"))\n",
    "number2 = eval(input(\"Enter the second number\\n\"))\n",
    "\n",
    "if number1 == number2 :\n",
    "    print(\"Both numbers are same\")\n",
    "else :\n",
    "    if number1 > number2 :\n",
    "        print(\"First number is bigger than second number\")\n",
    "    else :\n",
    "        print(\"First number is smaller than second number\")"
   ]
  },
  {
   "cell_type": "markdown",
   "id": "19f08167-c25f-49d2-9882-7e766b384b93",
   "metadata": {},
   "source": [
    "# Catching exception with try and except"
   ]
  },
  {
   "cell_type": "code",
   "execution_count": 27,
   "id": "80a740a7-ef8f-43b5-8aa6-57dd88a40546",
   "metadata": {},
   "outputs": [
    {
     "name": "stdin",
     "output_type": "stream",
     "text": [
      "Enter the number\n",
      " Hello\n"
     ]
    },
    {
     "ename": "ValueError",
     "evalue": "invalid literal for int() with base 10: 'Hello'",
     "output_type": "error",
     "traceback": [
      "\u001b[1;31m---------------------------------------------------------------------------\u001b[0m",
      "\u001b[1;31mValueError\u001b[0m                                Traceback (most recent call last)",
      "Cell \u001b[1;32mIn[27], line 1\u001b[0m\n\u001b[1;32m----> 1\u001b[0m number \u001b[38;5;241m=\u001b[39m \u001b[38;5;28mint\u001b[39m(\u001b[38;5;28minput\u001b[39m(\u001b[38;5;124m\"\u001b[39m\u001b[38;5;124mEnter the number\u001b[39m\u001b[38;5;130;01m\\n\u001b[39;00m\u001b[38;5;124m\"\u001b[39m))\n\u001b[0;32m      3\u001b[0m \u001b[38;5;28;01mif\u001b[39;00m number \u001b[38;5;241m%\u001b[39m \u001b[38;5;241m2\u001b[39m \u001b[38;5;241m==\u001b[39m \u001b[38;5;241m0\u001b[39m :\n\u001b[0;32m      4\u001b[0m     \u001b[38;5;28mprint\u001b[39m(number, \u001b[38;5;124m\"\u001b[39m\u001b[38;5;124m is Even number\u001b[39m\u001b[38;5;124m\"\u001b[39m)\n",
      "\u001b[1;31mValueError\u001b[0m: invalid literal for int() with base 10: 'Hello'"
     ]
    }
   ],
   "source": [
    "number = int(input(\"Enter the number\\n\"))\n",
    "\n",
    "if number % 2 == 0 :\n",
    "    print(number, \" is Even number\")\n",
    "else :\n",
    "    print(number, \" is odd number\") ## it will sjows an error whne user entered the string to overcome this we use try and except method. So, that user cannot get any syntax error\n",
    "    "
   ]
  },
  {
   "cell_type": "code",
   "execution_count": 14,
   "id": "543169f4-e720-4167-b5b3-59e70a291ec4",
   "metadata": {},
   "outputs": [
    {
     "name": "stdin",
     "output_type": "stream",
     "text": [
      "Enter the number\n",
      " 23.46\n"
     ]
    },
    {
     "name": "stdout",
     "output_type": "stream",
     "text": [
      "23.46  is Even number\n"
     ]
    }
   ],
   "source": [
    "import math\n",
    "try :\n",
    "    number = eval(input(\"Enter the number\\n\"))\n",
    "\n",
    "    if math.ceil(number) % 2 == 0 :\n",
    "        print(number, \" is Even number\")\n",
    "    else :\n",
    "        print(number, \" is odd number\")\n",
    "\n",
    "except :\n",
    "    print(\"Seems you have entered a string value\")"
   ]
  },
  {
   "cell_type": "code",
   "execution_count": 17,
   "id": "354eeea0-974a-40e6-98e4-4af253fba0a6",
   "metadata": {},
   "outputs": [
    {
     "name": "stdin",
     "output_type": "stream",
     "text": [
      "Enter the lenght in centimeter\n",
      " 100\n"
     ]
    },
    {
     "name": "stdout",
     "output_type": "stream",
     "text": [
      "100.0 cm=  39.37007874015748  inches\n"
     ]
    }
   ],
   "source": [
    "##Write a program that asks user to enter a length in centimeters. If negative value is entered, the program should tell the user that the entry is invalid. Otherwise the program should convert the length to inches and print out the result. There are 2.54 centimeters in inches.\n",
    "\n",
    "lenght_in_cm = input(\"Enter the lenght in centimeter\\n\")\n",
    "\n",
    "try :\n",
    "    lenght_in_cm = float(lenght_in_cm)\n",
    "\n",
    "    if lenght_in_cm < 0 :\n",
    "        print(\"You have entered a negetive value.\")\n",
    "    else :\n",
    "        lenght_in_inches = lenght_in_cm / 2.54\n",
    "        print(lenght_in_cm, \"cm= \", lenght_in_inches, \" inches\")\n",
    "\n",
    "except :\n",
    "    print(\"You have not entered any number\")"
   ]
  },
  {
   "cell_type": "code",
   "execution_count": 3,
   "id": "4cab9fcb-d5b5-4888-b957-faf6d660fd34",
   "metadata": {},
   "outputs": [
    {
     "name": "stdin",
     "output_type": "stream",
     "text": [
      "Enter a sentence\n",
      " India is my Country\n"
     ]
    },
    {
     "name": "stdout",
     "output_type": "stream",
     "text": [
      "i present at location  3\n",
      "a present at location  4\n",
      "i present at location  6\n",
      "o present at location  13\n",
      "u present at location  14\n"
     ]
    }
   ],
   "source": [
    "## Write a program that accept a sentence from the user as input and then print the location of each vowel in the sentence\n",
    "\n",
    "sentence = input(\"Enter a sentence\\n\")\n",
    "\n",
    "vowel_list = ['a','e','i','o','u']\n",
    "\n",
    "index = 0\n",
    "\n",
    "for letter in sentence :\n",
    "    if letter in vowel_list :\n",
    "        print(letter, \"present at location \", index)\n",
    "\n",
    "    index += 1\n",
    "    \n"
   ]
  },
  {
   "cell_type": "code",
   "execution_count": 1,
   "id": "7eb1ba77-98e1-4e99-ba5a-7cfb507a5126",
   "metadata": {},
   "outputs": [
    {
     "name": "stdin",
     "output_type": "stream",
     "text": [
      "Enter a word\n",
      " madam\n"
     ]
    },
    {
     "name": "stdout",
     "output_type": "stream",
     "text": [
      "madam  is Palindrome\n"
     ]
    }
   ],
   "source": [
    "## Write a program that asks user to enter a word and determines whether the word is palindrome or not. A palindrome is a word that read the same backwards as forwards.\n",
    "\n",
    "string = input(\"Enter a word\\n\")\n",
    "\n",
    "original_string = list(string)\n",
    "original_string_reversed = list(reversed(string))\n",
    "\n",
    "is_palindrome = True\n",
    "\n",
    "for i in range(len(original_string)) :\n",
    "    if original_string[i] != original_string_reversed[i]:\n",
    "        is_palindrome = False\n",
    "\n",
    "if is_palindrome:\n",
    "    print(string, \" is Palindrome\")\n",
    "\n",
    "else:\n",
    "    print(string, \" is not palindrome\")"
   ]
  },
  {
   "cell_type": "markdown",
   "id": "13bfce2e-84dd-4c4e-8c15-0f0fe39f68d6",
   "metadata": {},
   "source": [
    "# For loop"
   ]
  },
  {
   "cell_type": "code",
   "execution_count": 2,
   "id": "2326e1d3-4c7d-42dc-97e9-4bf0f586bca9",
   "metadata": {},
   "outputs": [
    {
     "name": "stdout",
     "output_type": "stream",
     "text": [
      "0\n",
      "1\n",
      "2\n"
     ]
    }
   ],
   "source": [
    "# iterate over fixed number of times\n",
    "\n",
    "for i in range(3):\n",
    "    print(i)"
   ]
  },
  {
   "cell_type": "code",
   "execution_count": 6,
   "id": "58a419f3-931a-4895-837b-3eb92efd24cb",
   "metadata": {},
   "outputs": [
    {
     "name": "stdout",
     "output_type": "stream",
     "text": [
      "11\n",
      "15\n",
      "16\n"
     ]
    }
   ],
   "source": [
    "# iterate over values directly\n",
    "\n",
    "\n",
    "for i in (11,15,16):\n",
    "    print(i)"
   ]
  },
  {
   "cell_type": "code",
   "execution_count": 9,
   "id": "958f460d-f66b-4cb4-a07b-a27cd1a7d5aa",
   "metadata": {},
   "outputs": [
    {
     "name": "stdout",
     "output_type": "stream",
     "text": [
      "1\n",
      "2\n",
      "3\n",
      "4\n"
     ]
    }
   ],
   "source": [
    "# iterate over fixed number of times with start and end value\n",
    "\n",
    "\n",
    "for i in range(1,5):\n",
    "    print(i)"
   ]
  },
  {
   "cell_type": "code",
   "execution_count": 8,
   "id": "c2862bb3-cdc9-4e1d-a723-61b7f9a81078",
   "metadata": {},
   "outputs": [
    {
     "name": "stdout",
     "output_type": "stream",
     "text": [
      "1\n",
      "3\n"
     ]
    }
   ],
   "source": [
    "# iterate over fixed number of times with start and end value with gaps in between \n",
    "\n",
    "for i in range(1,5,2):\n",
    "    print(i)"
   ]
  },
  {
   "cell_type": "code",
   "execution_count": 12,
   "id": "71068aeb-8f0e-4a66-9fbb-6c50a6068cb7",
   "metadata": {},
   "outputs": [
    {
     "name": "stdout",
     "output_type": "stream",
     "text": [
      "h\n",
      "e\n",
      "l\n",
      "l\n",
      "o\n",
      "!\n",
      " \n",
      "h\n",
      "o\n",
      "w\n",
      " \n",
      "a\n",
      "r\n",
      "e\n",
      " \n",
      "y\n",
      "o\n",
      "u\n",
      " \n",
      "?\n"
     ]
    }
   ],
   "source": [
    "## iterate over string directly\n",
    "\n",
    "my_string = \"hello! how are you ?\"\n",
    "\n",
    "for letter in my_string:\n",
    "    print(letter)\n"
   ]
  },
  {
   "cell_type": "code",
   "execution_count": 15,
   "id": "e8daafde-87b6-4345-b505-439b04ef47e1",
   "metadata": {},
   "outputs": [
    {
     "name": "stdout",
     "output_type": "stream",
     "text": [
      "1\n",
      "50.2\n",
      "hello\n",
      "True\n"
     ]
    }
   ],
   "source": [
    "## iterate over tuple directly\n",
    "\n",
    "my_tuple = (1, 50.2, \"hello\", True)\n",
    "\n",
    "for element in my_tuple:\n",
    "    print(element)\n"
   ]
  },
  {
   "cell_type": "code",
   "execution_count": 16,
   "id": "466f6bd4-8999-4c4c-90bf-152543805476",
   "metadata": {},
   "outputs": [
    {
     "name": "stdout",
     "output_type": "stream",
     "text": [
      "1\n",
      "50.2\n",
      "hello\n",
      "True\n"
     ]
    }
   ],
   "source": [
    "## iterate over tuple directly\n",
    "\n",
    "my_set = {1, 50.2, \"hello\", True}\n",
    "\n",
    "for element in my_tuple:\n",
    "    print(element)"
   ]
  },
  {
   "cell_type": "code",
   "execution_count": 19,
   "id": "9f6479b6-9b52-406a-a9ca-1c7e7d5249b6",
   "metadata": {},
   "outputs": [
    {
     "name": "stdout",
     "output_type": "stream",
     "text": [
      "('key1', 'value1')\n",
      "('key2', 'value2')\n"
     ]
    }
   ],
   "source": [
    "## iterate over tuple directly\n",
    "\n",
    "my_dictionary = {\"key1\":\"value1\", \"key2\":\"value2\"}\n",
    "\n",
    "for items in my_dictionary.items():\n",
    "    print(items)"
   ]
  },
  {
   "cell_type": "code",
   "execution_count": 26,
   "id": "49e3bba9-551f-4e00-b3a9-0cae5e795f23",
   "metadata": {},
   "outputs": [
    {
     "name": "stdin",
     "output_type": "stream",
     "text": [
      "Enter the height of trinangle\n",
      " 5\n"
     ]
    },
    {
     "name": "stdout",
     "output_type": "stream",
     "text": [
      "\n",
      "@\n",
      "@@\n",
      "@@@\n",
      "@@@@\n",
      "@@@@@\n"
     ]
    }
   ],
   "source": [
    "# hieght of tringle\n",
    "\n",
    "times = int(input(\"Enter the height of trinangle\\n\"))\n",
    "print()\n",
    "\n",
    "item = []\n",
    "for i in range(times):\n",
    "    item.append(i+1)\n",
    "\n",
    "for x in item:\n",
    "    print(x * \"@\")"
   ]
  },
  {
   "cell_type": "markdown",
   "id": "17c37bf4-1732-4872-8dba-aa984ee70ebc",
   "metadata": {},
   "source": [
    "# While Loop"
   ]
  },
  {
   "cell_type": "code",
   "execution_count": 10,
   "id": "8491dacb-0df4-4a7a-b20f-3ea577e8a3be",
   "metadata": {},
   "outputs": [
    {
     "name": "stdout",
     "output_type": "stream",
     "text": [
      "i 0  (number)  0\n",
      "i 1  (number)  1\n",
      "i 2  (number)  2\n",
      "i 3  (number)  3\n",
      "i 4  (number)  4\n",
      "lenght of list 5\n"
     ]
    }
   ],
   "source": [
    "# iterate over the fist five numbers\n",
    "\n",
    "number_list = range(5)\n",
    "\n",
    "i = 0 # initialising the iteration variable\n",
    "\n",
    "while i < len(number_list):   # Condition is evaluated\n",
    "    print('i', i, \" (number) \", number_list[i])\n",
    "    i = i + 1\n",
    "\n",
    "print(\"lenght of list\", len(number_list))"
   ]
  },
  {
   "cell_type": "code",
   "execution_count": 9,
   "id": "9b216483-fe4e-4dcc-9ce3-738f79af7fe7",
   "metadata": {},
   "outputs": [],
   "source": [
    "# for loop is most important because variable diclation is important  in while loop and if we did't declare, it will go infinite loopin where as in case of for loop it is not necessary to declare variable."
   ]
  },
  {
   "cell_type": "code",
   "execution_count": 12,
   "id": "b2a130b5-8d76-44f8-9db2-1db7999feda0",
   "metadata": {},
   "outputs": [
    {
     "name": "stdout",
     "output_type": "stream",
     "text": [
      "0\n",
      "1\n",
      "2\n",
      "3\n",
      "4\n"
     ]
    }
   ],
   "source": [
    "i = 0 # initialising the iteration variable\n",
    "\n",
    "while i < 5:  # Condition is evaluated\n",
    "    print(i)\n",
    "    i = i + 1"
   ]
  },
  {
   "cell_type": "markdown",
   "id": "caefb0fb-8c9e-45e3-a15e-04eb9b62d9a1",
   "metadata": {},
   "source": [
    "# Break Statement"
   ]
  },
  {
   "cell_type": "code",
   "execution_count": 14,
   "id": "a71f02dd-f9f9-4b3c-b0b4-f1ea21f03bf9",
   "metadata": {},
   "outputs": [
    {
     "name": "stdout",
     "output_type": "stream",
     "text": [
      "0\n",
      "1\n",
      "2\n",
      "3\n"
     ]
    }
   ],
   "source": [
    "i = 0 # initialising the iteration variable\n",
    "\n",
    "while i < 5: # Condition is evaluated\n",
    "    if i > 3:\n",
    "        break\n",
    "    print(i)\n",
    "    i = i + 1"
   ]
  },
  {
   "cell_type": "markdown",
   "id": "3a9e3fb4-4513-4760-a6e0-c8b8c163eac4",
   "metadata": {},
   "source": [
    "# Contine Statement"
   ]
  },
  {
   "cell_type": "code",
   "execution_count": null,
   "id": "ed0ffa62-3d7b-474e-bb11-ad2931dbf569",
   "metadata": {},
   "outputs": [
    {
     "name": "stdout",
     "output_type": "stream",
     "text": [
      "0\n",
      "1\n",
      "2\n",
      "3\n"
     ]
    }
   ],
   "source": [
    "i = 0 # initialising the iteration variable\n",
    "\n",
    "while i < 5: # Condition is evaluated\n",
    "    if i > 3:\n",
    "        continue\n",
    "    print(i)\n",
    "    i = i + 1"
   ]
  },
  {
   "cell_type": "code",
   "execution_count": 1,
   "id": "201c150a-f9e1-4317-99c8-7e49394de5d7",
   "metadata": {},
   "outputs": [
    {
     "name": "stdin",
     "output_type": "stream",
     "text": [
      "Enter the statement (Use 'Quit' to stop) anbsjvucvwl\n"
     ]
    },
    {
     "name": "stdout",
     "output_type": "stream",
     "text": [
      "anbsjvucvwl\n"
     ]
    },
    {
     "name": "stdin",
     "output_type": "stream",
     "text": [
      "Enter the statement (Use 'Quit' to stop) hjbdclahb\n"
     ]
    },
    {
     "name": "stdout",
     "output_type": "stream",
     "text": [
      "hjbdclahb\n"
     ]
    },
    {
     "name": "stdin",
     "output_type": "stream",
     "text": [
      "Enter the statement (Use 'Quit' to stop) hjcdacwukyk\n"
     ]
    },
    {
     "name": "stdout",
     "output_type": "stream",
     "text": [
      "hjcdacwukyk\n"
     ]
    },
    {
     "name": "stdin",
     "output_type": "stream",
     "text": [
      "Enter the statement (Use 'Quit' to stop) #hjcbw\n",
      "Enter the statement (Use 'Quit' to stop) quit\n"
     ]
    },
    {
     "name": "stdout",
     "output_type": "stream",
     "text": [
      "quit\n"
     ]
    },
    {
     "name": "stdin",
     "output_type": "stream",
     "text": [
      "Enter the statement (Use 'Quit' to stop) Quit\n"
     ]
    },
    {
     "name": "stdout",
     "output_type": "stream",
     "text": [
      "Quit\n"
     ]
    }
   ],
   "source": [
    "stmt = \"\"\n",
    "\n",
    "while stmt != 'Quit':\n",
    "    stmt = input(\"Enter the statement (Use 'Quit' to stop)\")\n",
    "    if stmt.startswith('#') :\n",
    "        continue\n",
    "    if len(stmt) > 0 :\n",
    "        print(stmt)"
   ]
  },
  {
   "cell_type": "code",
   "execution_count": 47,
   "id": "5249cfec-27f5-4f58-99fd-f60d28202f3f",
   "metadata": {},
   "outputs": [
    {
     "name": "stdin",
     "output_type": "stream",
     "text": [
      "Enter your password\n",
      " danish\n"
     ]
    },
    {
     "name": "stdout",
     "output_type": "stream",
     "text": [
      "You have used all attempts of login\n"
     ]
    }
   ],
   "source": [
    "password = \"Python@2025\"\n",
    "times = 5\n",
    "match_found = False\n",
    "\n",
    "for i in range(times):\n",
    "    user_password = input(\"Enter your password\\n\")\n",
    "    if user_password == password:\n",
    "        match_found = True\n",
    "        print(\"You are logged In\")\n",
    "    break\n",
    "\n",
    "if not(match_found):\n",
    "    print(\"You have used all attempts of login\")"
   ]
  },
  {
   "cell_type": "code",
   "execution_count": 49,
   "id": "b591e6b3-394a-4c56-a58c-17bc9955c376",
   "metadata": {},
   "outputs": [
    {
     "name": "stdin",
     "output_type": "stream",
     "text": [
      "Enter a number that you wants to check for prime:  17\n"
     ]
    },
    {
     "name": "stdout",
     "output_type": "stream",
     "text": [
      "17  is a Prime number.\n"
     ]
    }
   ],
   "source": [
    "# test for the prime number of any leanght\n",
    "\n",
    "var_prime = False\n",
    "num = int(input(\"Enter a number that you wants to check for prime: \"))\n",
    "\n",
    "for i in range(2,num):\n",
    "    if num % i == 0:\n",
    "      var_prime = True\n",
    "\n",
    "if not(var_prime):\n",
    "    print(num, \" is a Prime number.\")\n",
    "else:\n",
    "    print(num, \" is not a Prime number.\")"
   ]
  },
  {
   "cell_type": "markdown",
   "id": "dcdb4bee-c9df-4e1b-97f4-23f8596e7fa4",
   "metadata": {},
   "source": [
    "# Sets{}"
   ]
  },
  {
   "cell_type": "code",
   "execution_count": 53,
   "id": "41575509-05c5-4912-8cfe-f71a71c6b69e",
   "metadata": {},
   "outputs": [
    {
     "data": {
      "text/plain": [
       "([], {})"
      ]
     },
     "execution_count": 53,
     "metadata": {},
     "output_type": "execute_result"
    }
   ],
   "source": [
    "empty_set = {}  ## set is used for the unique elements where list can have anything\n",
    "empty_list = []\n",
    "empty_list ,empty_set"
   ]
  },
  {
   "cell_type": "code",
   "execution_count": 54,
   "id": "fce09747-cf1d-42b8-9297-5bfca9f99c78",
   "metadata": {},
   "outputs": [
    {
     "data": {
      "text/plain": [
       "(list, dict)"
      ]
     },
     "execution_count": 54,
     "metadata": {},
     "output_type": "execute_result"
    }
   ],
   "source": [
    "type(empty_list) , type(empty_set)"
   ]
  },
  {
   "cell_type": "code",
   "execution_count": 56,
   "id": "e1754051-d0a0-4bb4-9e50-56a7a7e60484",
   "metadata": {},
   "outputs": [
    {
     "data": {
      "text/plain": [
       "{5}"
      ]
     },
     "execution_count": 56,
     "metadata": {},
     "output_type": "execute_result"
    }
   ],
   "source": [
    "set_num = {5}\n",
    "set_num"
   ]
  },
  {
   "cell_type": "code",
   "execution_count": 57,
   "id": "0494e0a2-e155-43af-b962-f21f5c9b8344",
   "metadata": {},
   "outputs": [
    {
     "data": {
      "text/plain": [
       "set"
      ]
     },
     "execution_count": 57,
     "metadata": {},
     "output_type": "execute_result"
    }
   ],
   "source": [
    "type(set_num) ## empty set has a typr of dict whereas singal number in bracket will gives it type as set"
   ]
  },
  {
   "cell_type": "code",
   "execution_count": 69,
   "id": "8319e344-0c5a-4d8c-abed-4cceb2de1286",
   "metadata": {},
   "outputs": [
    {
     "data": {
      "text/plain": [
       "{'a', 'b', 'c'}"
      ]
     },
     "execution_count": 69,
     "metadata": {},
     "output_type": "execute_result"
    }
   ],
   "source": [
    "my_set = {'a', 'b', 'c','a', 'b', 'c'} ## duplicates get removed from the set result\n",
    "my_set"
   ]
  },
  {
   "cell_type": "code",
   "execution_count": 59,
   "id": "6f246ea6-8156-4c00-ba12-86096f36e3b5",
   "metadata": {},
   "outputs": [
    {
     "data": {
      "text/plain": [
       "['a', 'c', 'b', 1, 2, 4, 3, 'America']"
      ]
     },
     "execution_count": 59,
     "metadata": {},
     "output_type": "execute_result"
    }
   ],
   "source": [
    "my_list = ['a', 'c', 'b', 1, 2, 4, 3, \"America\"]\n",
    "my_list"
   ]
  },
  {
   "cell_type": "code",
   "execution_count": 60,
   "id": "26f51f5d-7882-437d-a32a-1021eb6a983c",
   "metadata": {},
   "outputs": [
    {
     "data": {
      "text/plain": [
       "{1, 2, 3, 4, 'America', 'a', 'b', 'c'}"
      ]
     },
     "execution_count": 60,
     "metadata": {},
     "output_type": "execute_result"
    }
   ],
   "source": [
    "my_set = {'a', 'c', 'b', 1, 2, 4, 3, \"America\"}\n",
    "my_set"
   ]
  },
  {
   "cell_type": "code",
   "execution_count": 67,
   "id": "135b646c-427d-444a-b86f-766068b1ffd9",
   "metadata": {},
   "outputs": [],
   "source": [
    "set_ex = {1,3,23,23.34,34.43,11,23,11.13,11.12,'#', \"###\", \"##\", \"##1\", 'a', 'c', 'b', '@', \"@@\", True, False, \"America\",\"america\", \"Danish\", \"DANISH\", \"dANISH\"}"
   ]
  },
  {
   "cell_type": "code",
   "execution_count": 68,
   "id": "bd628f43-b720-4ccc-9b25-59e2a63fead9",
   "metadata": {},
   "outputs": [
    {
     "data": {
      "text/plain": [
       "{'#',\n",
       " '##',\n",
       " '###',\n",
       " '##1',\n",
       " 1,\n",
       " 11,\n",
       " 11.12,\n",
       " 11.13,\n",
       " 23,\n",
       " 23.34,\n",
       " 3,\n",
       " 34.43,\n",
       " '@',\n",
       " '@@',\n",
       " 'America',\n",
       " 'DANISH',\n",
       " 'Danish',\n",
       " False,\n",
       " 'a',\n",
       " 'america',\n",
       " 'b',\n",
       " 'c',\n",
       " 'dANISH'}"
      ]
     },
     "execution_count": 68,
     "metadata": {},
     "output_type": "execute_result"
    }
   ],
   "source": [
    "set_ex"
   ]
  },
  {
   "cell_type": "code",
   "execution_count": 118,
   "id": "a2b8683a-99b3-480e-8bd6-0f703f211a59",
   "metadata": {},
   "outputs": [
    {
     "name": "stdout",
     "output_type": "stream",
     "text": [
      "False\n",
      "1\n",
      "3\n",
      "america\n",
      "Danish\n",
      "11\n",
      "11.13\n",
      "11.12\n",
      "##\n",
      "##1\n",
      "America\n",
      "23\n",
      "23.34\n",
      "#\n",
      "###\n",
      "34.43\n",
      "c\n",
      "a\n",
      "DANISH\n",
      "@\n",
      "dANISH\n",
      "@@\n",
      "b\n"
     ]
    }
   ],
   "source": [
    "for i in set_ex:   ## set doesn't maintain a insertion order\n",
    "    \n",
    "    print(i)"
   ]
  },
  {
   "cell_type": "raw",
   "id": "bfacfcb9-6698-4773-abbb-bb087bacd079",
   "metadata": {},
   "source": [
    "# Creation of set from list"
   ]
  },
  {
   "cell_type": "code",
   "execution_count": 70,
   "id": "ab44fdfc-a8b2-4cd2-8691-fd046e57cf6e",
   "metadata": {},
   "outputs": [
    {
     "data": {
      "text/plain": [
       "[1, '1', 2, 2, 2, '2', '2']"
      ]
     },
     "execution_count": 70,
     "metadata": {},
     "output_type": "execute_result"
    }
   ],
   "source": [
    "new_list = [1,'1',2,2,2,'2','2',]\n",
    "new_list\n"
   ]
  },
  {
   "cell_type": "code",
   "execution_count": 71,
   "id": "a075af6d-160e-462c-8e7c-b1276df11fc1",
   "metadata": {},
   "outputs": [
    {
     "data": {
      "text/plain": [
       "{1, '1', 2, '2'}"
      ]
     },
     "execution_count": 71,
     "metadata": {},
     "output_type": "execute_result"
    }
   ],
   "source": [
    "new_set = set(new_list)  ## set can be created from list by typecasting, duplicates will removed\n",
    "new_set"
   ]
  },
  {
   "cell_type": "raw",
   "id": "ec5244f9-3130-47fe-8eb5-e85a68684236",
   "metadata": {},
   "source": [
    "# Creation of set from list"
   ]
  },
  {
   "cell_type": "code",
   "execution_count": 82,
   "id": "a950d7ad-cc0c-415b-970d-cd4aaa947534",
   "metadata": {},
   "outputs": [
    {
     "data": {
      "text/plain": [
       "{'Ahamdabad', 'Aligarh', 'Delhi', 'Mumbai'}"
      ]
     },
     "execution_count": 82,
     "metadata": {},
     "output_type": "execute_result"
    }
   ],
   "source": [
    "my_set = {\"Delhi\", \"Mumbai\", \"Delhi\", \"Ahamdabad\", \"Aligarh\"}\n",
    "my_set\n"
   ]
  },
  {
   "cell_type": "code",
   "execution_count": 83,
   "id": "b836332d-e0c5-4475-959e-d1ece6fce264",
   "metadata": {},
   "outputs": [
    {
     "data": {
      "text/plain": [
       "set"
      ]
     },
     "execution_count": 83,
     "metadata": {},
     "output_type": "execute_result"
    }
   ],
   "source": [
    "type(my_set)"
   ]
  },
  {
   "cell_type": "code",
   "execution_count": 78,
   "id": "612b008f-34aa-4234-b9c0-caa60f5ed635",
   "metadata": {},
   "outputs": [
    {
     "data": {
      "text/plain": [
       "['Aligarh', 'Delhi', 'Mumbai', 'Ahamdabad']"
      ]
     },
     "execution_count": 78,
     "metadata": {},
     "output_type": "execute_result"
    }
   ],
   "source": [
    "my_list = list(my_set)\n",
    "my_list"
   ]
  },
  {
   "cell_type": "code",
   "execution_count": 84,
   "id": "a1b01462-ea80-4deb-bf32-5fe12d561bcb",
   "metadata": {},
   "outputs": [
    {
     "data": {
      "text/plain": [
       "list"
      ]
     },
     "execution_count": 84,
     "metadata": {},
     "output_type": "execute_result"
    }
   ],
   "source": [
    "type(my_list)"
   ]
  },
  {
   "cell_type": "raw",
   "id": "2ad0cc0f-a8a3-46e1-a091-952adfeabc33",
   "metadata": {},
   "source": [
    "#Operations on sets"
   ]
  },
  {
   "cell_type": "markdown",
   "id": "bae562c1-9eb2-4807-9e7e-c61495db0933",
   "metadata": {},
   "source": [
    "# add() function"
   ]
  },
  {
   "cell_type": "code",
   "execution_count": 85,
   "id": "4aab864a-7cd7-4707-b147-c90a5de730b7",
   "metadata": {},
   "outputs": [
    {
     "data": {
      "text/plain": [
       "{'England', 'India', 'US'}"
      ]
     },
     "execution_count": 85,
     "metadata": {},
     "output_type": "execute_result"
    }
   ],
   "source": [
    "Country_set = {\"India\", \"US\", \"England\", \"US\"}\n",
    "Country_set"
   ]
  },
  {
   "cell_type": "code",
   "execution_count": 86,
   "id": "38aa812b-cd5f-4ca2-a3d0-76b71adb9621",
   "metadata": {},
   "outputs": [
    {
     "data": {
      "text/plain": [
       "{'China', 'England', 'India', 'US'}"
      ]
     },
     "execution_count": 86,
     "metadata": {},
     "output_type": "execute_result"
    }
   ],
   "source": [
    "Country_set.add(\"China\")\n",
    "Country_set"
   ]
  },
  {
   "cell_type": "markdown",
   "id": "8e8adc54-d246-4f03-8c55-49cc163ac978",
   "metadata": {},
   "source": [
    "# remove() function"
   ]
  },
  {
   "cell_type": "code",
   "execution_count": 88,
   "id": "b1067566-99f3-47a4-8cac-86dd90f48b88",
   "metadata": {},
   "outputs": [
    {
     "data": {
      "text/plain": [
       "{'China', 'England', 'India'}"
      ]
     },
     "execution_count": 88,
     "metadata": {},
     "output_type": "execute_result"
    }
   ],
   "source": [
    "Country_set.remove(\"US\")\n",
    "Country_set"
   ]
  },
  {
   "cell_type": "code",
   "execution_count": 91,
   "id": "6ecaf307-a76a-4bc0-ad79-4118b70c0e9d",
   "metadata": {},
   "outputs": [
    {
     "ename": "KeyError",
     "evalue": "'UK'",
     "output_type": "error",
     "traceback": [
      "\u001b[1;31m---------------------------------------------------------------------------\u001b[0m",
      "\u001b[1;31mKeyError\u001b[0m                                  Traceback (most recent call last)",
      "Cell \u001b[1;32mIn[91], line 1\u001b[0m\n\u001b[1;32m----> 1\u001b[0m Country_set\u001b[38;5;241m.\u001b[39mremove(\u001b[38;5;124m\"\u001b[39m\u001b[38;5;124mUK\u001b[39m\u001b[38;5;124m\"\u001b[39m)\n\u001b[0;32m      2\u001b[0m Country_set\n",
      "\u001b[1;31mKeyError\u001b[0m: 'UK'"
     ]
    }
   ],
   "source": [
    "Country_set.remove(\"UK\")\n",
    "Country_set"
   ]
  },
  {
   "cell_type": "markdown",
   "id": "db9a4349-f7ff-445d-8e7f-d5f8c22e59b6",
   "metadata": {},
   "source": [
    "# discard() function"
   ]
  },
  {
   "cell_type": "code",
   "execution_count": 90,
   "id": "3ae6b97c-581a-4565-8f2f-ae95f77b29a7",
   "metadata": {},
   "outputs": [
    {
     "data": {
      "text/plain": [
       "{'China', 'England', 'India'}"
      ]
     },
     "execution_count": 90,
     "metadata": {},
     "output_type": "execute_result"
    }
   ],
   "source": [
    "Country_set.discard(\"UK\") ## discard function is use to remove any element from set, if element is not present in the set it will not throw a syntax error\n",
    "Country_set"
   ]
  },
  {
   "cell_type": "markdown",
   "id": "d7d85962-a677-48bf-830f-4aa9cc33bb10",
   "metadata": {},
   "source": [
    "# pop() function"
   ]
  },
  {
   "cell_type": "code",
   "execution_count": 92,
   "id": "d6f530e4-10db-421d-a78a-b18fbca85316",
   "metadata": {},
   "outputs": [
    {
     "data": {
      "text/plain": [
       "{'China', 'England', 'India'}"
      ]
     },
     "execution_count": 92,
     "metadata": {},
     "output_type": "execute_result"
    }
   ],
   "source": [
    "Country_set"
   ]
  },
  {
   "cell_type": "code",
   "execution_count": 93,
   "id": "173ef42e-f1d5-4679-a17a-368bf7c4ef2c",
   "metadata": {},
   "outputs": [
    {
     "data": {
      "text/plain": [
       "{'England', 'India'}"
      ]
     },
     "execution_count": 93,
     "metadata": {},
     "output_type": "execute_result"
    }
   ],
   "source": [
    "Country_set.pop() ## removes first elements from set\n",
    "Country_set"
   ]
  },
  {
   "cell_type": "code",
   "execution_count": 95,
   "id": "748cc3f7-b7ad-4bb5-9e1e-ba09bee90056",
   "metadata": {},
   "outputs": [
    {
     "data": {
      "text/plain": [
       "{1, 2, 3, 4, 'Danish', 'MALIK'}"
      ]
     },
     "execution_count": 95,
     "metadata": {},
     "output_type": "execute_result"
    }
   ],
   "source": [
    "test_set = {1,2,3,4,4,4,\"Danish\",\"MALIK\"}\n",
    "test_set"
   ]
  },
  {
   "cell_type": "code",
   "execution_count": 97,
   "id": "4e4db2ce-927d-4007-b8be-97bb25d5f366",
   "metadata": {},
   "outputs": [
    {
     "data": {
      "text/plain": [
       "{3, 4, 'Danish', 'MALIK'}"
      ]
     },
     "execution_count": 97,
     "metadata": {},
     "output_type": "execute_result"
    }
   ],
   "source": [
    "test_set.pop()\n",
    "test_set"
   ]
  },
  {
   "cell_type": "code",
   "execution_count": null,
   "id": "01f86ee4-71a7-4341-8960-b34374d9e8ea",
   "metadata": {},
   "outputs": [],
   "source": [
    "# clear() function"
   ]
  },
  {
   "cell_type": "code",
   "execution_count": 98,
   "id": "71916cdc-7ff0-4c49-9150-67be06fbf827",
   "metadata": {},
   "outputs": [
    {
     "data": {
      "text/plain": [
       "{3, 4, 'Danish', 'MALIK'}"
      ]
     },
     "execution_count": 98,
     "metadata": {},
     "output_type": "execute_result"
    }
   ],
   "source": [
    "test_set"
   ]
  },
  {
   "cell_type": "code",
   "execution_count": 99,
   "id": "652021aa-5187-4808-8b9d-e767e2f02e81",
   "metadata": {},
   "outputs": [
    {
     "data": {
      "text/plain": [
       "set()"
      ]
     },
     "execution_count": 99,
     "metadata": {},
     "output_type": "execute_result"
    }
   ],
   "source": [
    "test_set.clear() ##clears the set and makes it empty\n",
    "test_set"
   ]
  },
  {
   "cell_type": "code",
   "execution_count": null,
   "id": "3bb9986e-4a3e-4132-bc27-94ffad106298",
   "metadata": {},
   "outputs": [],
   "source": [
    "# 'in' and 'not in' function"
   ]
  },
  {
   "cell_type": "code",
   "execution_count": 100,
   "id": "ac7c2435-7484-483a-9cfd-275d02393ee4",
   "metadata": {},
   "outputs": [
    {
     "data": {
      "text/plain": [
       "{'England', 'India', 'US'}"
      ]
     },
     "execution_count": 100,
     "metadata": {},
     "output_type": "execute_result"
    }
   ],
   "source": [
    "Country_set = {\"India\", \"US\", \"England\", \"US\"}\n",
    "Country_set"
   ]
  },
  {
   "cell_type": "code",
   "execution_count": 102,
   "id": "b271d122-1fd6-4f8e-8b50-cde045d5a502",
   "metadata": {},
   "outputs": [
    {
     "data": {
      "text/plain": [
       "True"
      ]
     },
     "execution_count": 102,
     "metadata": {},
     "output_type": "execute_result"
    }
   ],
   "source": [
    "\"India\" in Country_set"
   ]
  },
  {
   "cell_type": "code",
   "execution_count": 103,
   "id": "c2db2cc7-4422-47bb-a868-fad73a55cc9a",
   "metadata": {},
   "outputs": [
    {
     "data": {
      "text/plain": [
       "True"
      ]
     },
     "execution_count": 103,
     "metadata": {},
     "output_type": "execute_result"
    }
   ],
   "source": [
    "\"China\" not in Country_set"
   ]
  },
  {
   "cell_type": "raw",
   "id": "259a749d-b485-4387-a92f-3a5691251859",
   "metadata": {},
   "source": [
    "# Working with sets"
   ]
  },
  {
   "cell_type": "code",
   "execution_count": null,
   "id": "b4af8b9f-b661-4c6d-b228-88ddf1385bbc",
   "metadata": {},
   "outputs": [],
   "source": [
    "'&' operator can be used to have common elements between two sets"
   ]
  },
  {
   "cell_type": "code",
   "execution_count": 104,
   "id": "30c5b762-b517-488e-8a77-28de049fc08a",
   "metadata": {},
   "outputs": [],
   "source": [
    "maharashtra_cities = {\"Mumbai\", \"Pune\", \"Nagpur\"}\n",
    "goa_cities = {\"Panjim\", \"Vasco\", \"Madgaon\"}\n",
    "western_region_cities = {\"Mumbai\", \"Pune\", \"Nagpur\", \"Panjim\", \"Vasco\"}"
   ]
  },
  {
   "cell_type": "code",
   "execution_count": 105,
   "id": "7a27ae40-bfec-4d65-af6c-cf119072c160",
   "metadata": {},
   "outputs": [
    {
     "data": {
      "text/plain": [
       "{'Mumbai', 'Nagpur', 'Pune'}"
      ]
     },
     "execution_count": 105,
     "metadata": {},
     "output_type": "execute_result"
    }
   ],
   "source": [
    "maharashtra_cities & western_region_cities  ## & will give common element between two sets"
   ]
  },
  {
   "cell_type": "code",
   "execution_count": 106,
   "id": "52c8c7d3-22fc-445a-8486-75fc0e82d40c",
   "metadata": {},
   "outputs": [
    {
     "data": {
      "text/plain": [
       "{'Panjim', 'Vasco'}"
      ]
     },
     "execution_count": 106,
     "metadata": {},
     "output_type": "execute_result"
    }
   ],
   "source": [
    "goa_cities & western_region_cities"
   ]
  },
  {
   "cell_type": "code",
   "execution_count": 107,
   "id": "6535f316-8d28-476b-8d71-87fd007371e5",
   "metadata": {},
   "outputs": [
    {
     "data": {
      "text/plain": [
       "set()"
      ]
     },
     "execution_count": 107,
     "metadata": {},
     "output_type": "execute_result"
    }
   ],
   "source": [
    "maharashtra_cities & goa_cities"
   ]
  },
  {
   "cell_type": "markdown",
   "id": "afa905b4-5200-4f82-bb34-4b0ac1a43b60",
   "metadata": {},
   "source": [
    "# intersection() function"
   ]
  },
  {
   "cell_type": "code",
   "execution_count": 108,
   "id": "876dadb2-de8d-4a05-935c-989bb1b53a7e",
   "metadata": {},
   "outputs": [],
   "source": [
    "maharashtra_cities = {\"Mumbai\", \"Pune\", \"Nagpur\"}\n",
    "goa_cities = {\"Panjim\", \"Vasco\", \"Madgaon\"}\n",
    "western_region_cities = {\"Mumbai\", \"Pune\", \"Nagpur\", \"Panjim\", \"Vasco\"}"
   ]
  },
  {
   "cell_type": "code",
   "execution_count": 109,
   "id": "5e59acb3-ad19-4468-9b8a-c4bebf2e205c",
   "metadata": {},
   "outputs": [
    {
     "data": {
      "text/plain": [
       "{'Mumbai', 'Nagpur', 'Pune'}"
      ]
     },
     "execution_count": 109,
     "metadata": {},
     "output_type": "execute_result"
    }
   ],
   "source": [
    "western_region_cities.intersection(maharashtra_cities) ## also returns common element"
   ]
  },
  {
   "cell_type": "code",
   "execution_count": 110,
   "id": "8a98dbc3-918d-458f-8a58-e9cb347069dd",
   "metadata": {},
   "outputs": [
    {
     "data": {
      "text/plain": [
       "{'Panjim', 'Vasco'}"
      ]
     },
     "execution_count": 110,
     "metadata": {},
     "output_type": "execute_result"
    }
   ],
   "source": [
    "western_region_cities.intersection(goa_cities)"
   ]
  },
  {
   "cell_type": "code",
   "execution_count": 111,
   "id": "204e9fc5-c1ec-4f6d-a0ef-0b1b8f3b5147",
   "metadata": {},
   "outputs": [
    {
     "data": {
      "text/plain": [
       "set()"
      ]
     },
     "execution_count": 111,
     "metadata": {},
     "output_type": "execute_result"
    }
   ],
   "source": [
    "maharashtra_cities.intersection(goa_cities)"
   ]
  },
  {
   "cell_type": "raw",
   "id": "fca34a30-7d00-4704-ac9a-10ebaa55f0b8",
   "metadata": {},
   "source": [
    "'-' operator can be used to get the element which is present in set 1"
   ]
  },
  {
   "cell_type": "code",
   "execution_count": 112,
   "id": "27a1d383-afd3-4de5-ab47-65912c1225ca",
   "metadata": {},
   "outputs": [],
   "source": [
    "maharashtra_cities = {\"Mumbai\", \"Pune\", \"Nagpur\"}\n",
    "goa_cities = {\"Panjim\", \"Vasco\", \"Madgaon\"}\n",
    "western_region_cities = {\"Mumbai\", \"Pune\", \"Nagpur\", \"Panjim\", \"Vasco\"}"
   ]
  },
  {
   "cell_type": "code",
   "execution_count": 113,
   "id": "43ccb459-4335-4675-84af-0e7bba258d4d",
   "metadata": {},
   "outputs": [
    {
     "data": {
      "text/plain": [
       "{'Panjim', 'Vasco'}"
      ]
     },
     "execution_count": 113,
     "metadata": {},
     "output_type": "execute_result"
    }
   ],
   "source": [
    "western_region_cities - maharashtra_cities ## '-' used to get the elemt which is present in set 1"
   ]
  },
  {
   "cell_type": "code",
   "execution_count": 114,
   "id": "07beca8a-71cd-47e1-8c22-8cbc9a7ca947",
   "metadata": {},
   "outputs": [
    {
     "data": {
      "text/plain": [
       "{'Mumbai', 'Nagpur', 'Pune'}"
      ]
     },
     "execution_count": 114,
     "metadata": {},
     "output_type": "execute_result"
    }
   ],
   "source": [
    "western_region_cities - goa_cities"
   ]
  },
  {
   "cell_type": "raw",
   "id": "22da220f-b636-43f1-a8a9-0c4103531230",
   "metadata": {},
   "source": [
    "'|' operator can be used to get all the elements from both the sets"
   ]
  },
  {
   "cell_type": "code",
   "execution_count": 115,
   "id": "d6f4278e-af74-4297-8de0-31e1c4404850",
   "metadata": {},
   "outputs": [],
   "source": [
    "maharashtra_cities = {\"Mumbai\", \"Pune\", \"Nagpur\"}\n",
    "goa_cities = {\"Panjim\", \"Vasco\", \"Madgaon\"}\n",
    "western_region_cities = {\"Mumbai\", \"Pune\", \"Nagpur\", \"Panjim\", \"Vasco\"}"
   ]
  },
  {
   "cell_type": "code",
   "execution_count": 116,
   "id": "fb584168-75ad-4437-abbd-9199fdafe887",
   "metadata": {},
   "outputs": [
    {
     "data": {
      "text/plain": [
       "{'Madgaon', 'Mumbai', 'Nagpur', 'Panjim', 'Pune', 'Vasco'}"
      ]
     },
     "execution_count": 116,
     "metadata": {},
     "output_type": "execute_result"
    }
   ],
   "source": [
    "goa_cities | maharashtra_cities"
   ]
  },
  {
   "cell_type": "markdown",
   "id": "ff99970e-f2f2-4819-965e-650909aad66c",
   "metadata": {},
   "source": [
    "# union() function"
   ]
  },
  {
   "cell_type": "code",
   "execution_count": 117,
   "id": "1c454d0f-c18d-4b56-ab97-2e80065f428a",
   "metadata": {},
   "outputs": [
    {
     "data": {
      "text/plain": [
       "{'Madgaon', 'Mumbai', 'Nagpur', 'Panjim', 'Pune', 'Vasco'}"
      ]
     },
     "execution_count": 117,
     "metadata": {},
     "output_type": "execute_result"
    }
   ],
   "source": [
    "maharashtra_cities.union(goa_cities) # used to get all the elements from both the se"
   ]
  },
  {
   "cell_type": "code",
   "execution_count": null,
   "id": "11583747-6edd-408b-a397-f64aa919d321",
   "metadata": {},
   "outputs": [],
   "source": []
  }
 ],
 "metadata": {
  "kernelspec": {
   "display_name": "Python 3 (ipykernel)",
   "language": "python",
   "name": "python3"
  },
  "language_info": {
   "codemirror_mode": {
    "name": "ipython",
    "version": 3
   },
   "file_extension": ".py",
   "mimetype": "text/x-python",
   "name": "python",
   "nbconvert_exporter": "python",
   "pygments_lexer": "ipython3",
   "version": "3.12.7"
  }
 },
 "nbformat": 4,
 "nbformat_minor": 5
}
