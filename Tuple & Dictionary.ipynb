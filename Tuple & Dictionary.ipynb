{
 "cells": [
  {
   "cell_type": "markdown",
   "id": "0ccf361c-e4f0-4add-b8c5-b5f31f779417",
   "metadata": {},
   "source": [
    "# Tuples"
   ]
  },
  {
   "cell_type": "code",
   "execution_count": 14,
   "id": "71efd522-4f59-4a70-8a72-917c1d64782b",
   "metadata": {},
   "outputs": [
    {
     "data": {
      "text/plain": [
       "()"
      ]
     },
     "execution_count": 14,
     "metadata": {},
     "output_type": "execute_result"
    }
   ],
   "source": [
    "tuple1 = ()\n",
    "tuple1"
   ]
  },
  {
   "cell_type": "code",
   "execution_count": 3,
   "id": "8acd3c1b-1ccb-4ca4-9357-e2ebf10dbaa6",
   "metadata": {},
   "outputs": [
    {
     "data": {
      "text/plain": [
       "tuple"
      ]
     },
     "execution_count": 3,
     "metadata": {},
     "output_type": "execute_result"
    }
   ],
   "source": [
    "type(tuple1)"
   ]
  },
  {
   "cell_type": "code",
   "execution_count": 4,
   "id": "f9cdae2d-c8f7-4bb7-bfa6-c3256a03c711",
   "metadata": {},
   "outputs": [
    {
     "data": {
      "text/plain": [
       "('a', 'b', 'c')"
      ]
     },
     "execution_count": 4,
     "metadata": {},
     "output_type": "execute_result"
    }
   ],
   "source": [
    "my_tuple = ('a', 'b', 'c')\n",
    "my_tuple"
   ]
  },
  {
   "cell_type": "code",
   "execution_count": 3,
   "id": "8a92f5a9-7b9a-4b13-adaf-3f1b44ea4ac7",
   "metadata": {},
   "outputs": [
    {
     "data": {
      "text/plain": [
       "('a', 1, 23.34, 'Inida', True)"
      ]
     },
     "execution_count": 3,
     "metadata": {},
     "output_type": "execute_result"
    }
   ],
   "source": [
    "my_tuple1 = ('a', 1, 23.34, \"Inida\", True)\n",
    "my_tuple1"
   ]
  },
  {
   "cell_type": "code",
   "execution_count": 6,
   "id": "78deb355-58ba-4d7f-b3bb-b3174b91ceb2",
   "metadata": {},
   "outputs": [
    {
     "name": "stdout",
     "output_type": "stream",
     "text": [
      "<class 'tuple'>\n"
     ]
    }
   ],
   "source": [
    "print(type(my_tuple1))"
   ]
  },
  {
   "cell_type": "code",
   "execution_count": 7,
   "id": "4792a933-4a06-4739-b5ed-ccd395529ccd",
   "metadata": {},
   "outputs": [
    {
     "data": {
      "text/plain": [
       "'a'"
      ]
     },
     "execution_count": 7,
     "metadata": {},
     "output_type": "execute_result"
    }
   ],
   "source": [
    "my_tuple1[0]"
   ]
  },
  {
   "cell_type": "code",
   "execution_count": 8,
   "id": "41cb1ad6-39ea-4a52-adc4-770dcff720a1",
   "metadata": {},
   "outputs": [
    {
     "data": {
      "text/plain": [
       "float"
      ]
     },
     "execution_count": 8,
     "metadata": {},
     "output_type": "execute_result"
    }
   ],
   "source": [
    "type(my_tuple1[2])"
   ]
  },
  {
   "cell_type": "code",
   "execution_count": 9,
   "id": "76746788-d5ac-481f-92ed-b4b345eaf4e2",
   "metadata": {},
   "outputs": [
    {
     "data": {
      "text/plain": [
       "5"
      ]
     },
     "execution_count": 9,
     "metadata": {},
     "output_type": "execute_result"
    }
   ],
   "source": [
    "len(my_tuple1)"
   ]
  },
  {
   "cell_type": "code",
   "execution_count": 10,
   "id": "8fe409b8-a46d-45b8-b8f3-8109fafca22d",
   "metadata": {},
   "outputs": [
    {
     "data": {
      "text/plain": [
       "True"
      ]
     },
     "execution_count": 10,
     "metadata": {},
     "output_type": "execute_result"
    }
   ],
   "source": [
    "my_tuple1[-1]"
   ]
  },
  {
   "cell_type": "code",
   "execution_count": 11,
   "id": "fc21482c-1046-44a2-88ab-2895c59323cd",
   "metadata": {},
   "outputs": [
    {
     "data": {
      "text/plain": [
       "bool"
      ]
     },
     "execution_count": 11,
     "metadata": {},
     "output_type": "execute_result"
    }
   ],
   "source": [
    "type(my_tuple1[-1])"
   ]
  },
  {
   "cell_type": "raw",
   "id": "d3013b99-5071-4611-8c7d-c8e49a860ff4",
   "metadata": {},
   "source": [
    "# Slicing"
   ]
  },
  {
   "cell_type": "code",
   "execution_count": 4,
   "id": "a7314e4e-3a08-48d1-850c-aa60f0d64df0",
   "metadata": {},
   "outputs": [
    {
     "data": {
      "text/plain": [
       "('a', 1, 23.34, 'Inida', True)"
      ]
     },
     "execution_count": 4,
     "metadata": {},
     "output_type": "execute_result"
    }
   ],
   "source": [
    "my_tuple1"
   ]
  },
  {
   "cell_type": "code",
   "execution_count": 12,
   "id": "b2125c39-f933-42f3-a027-2e75e2242894",
   "metadata": {},
   "outputs": [
    {
     "data": {
      "text/plain": [
       "('a', 1)"
      ]
     },
     "execution_count": 12,
     "metadata": {},
     "output_type": "execute_result"
    }
   ],
   "source": [
    "my_tuple1[0 : 2] ## extract first two elements of tuple"
   ]
  },
  {
   "cell_type": "code",
   "execution_count": 13,
   "id": "ceae671b-dd4b-400b-9195-26ebb34a0e61",
   "metadata": {},
   "outputs": [
    {
     "data": {
      "text/plain": [
       "(1, 23.34, 'Inida', True)"
      ]
     },
     "execution_count": 13,
     "metadata": {},
     "output_type": "execute_result"
    }
   ],
   "source": [
    "my_tuple1[1 : ] ## extract all elements of tuple starting from second"
   ]
  },
  {
   "cell_type": "code",
   "execution_count": 15,
   "id": "5f2d33db-ba49-486b-9bc4-96a322a1e13a",
   "metadata": {},
   "outputs": [
    {
     "data": {
      "text/plain": [
       "('a', 1, 23.34)"
      ]
     },
     "execution_count": 15,
     "metadata": {},
     "output_type": "execute_result"
    }
   ],
   "source": [
    "my_tuple1[ : 3] ## extract first three elements of tuple "
   ]
  },
  {
   "cell_type": "code",
   "execution_count": 16,
   "id": "31988b00-66d4-447c-b1b5-9f34a1bb61ad",
   "metadata": {},
   "outputs": [
    {
     "data": {
      "text/plain": [
       "('a', 23.34, True)"
      ]
     },
     "execution_count": 16,
     "metadata": {},
     "output_type": "execute_result"
    }
   ],
   "source": [
    "my_tuple1[0 : : 2] ## extract every alternate elements of tuple starting"
   ]
  },
  {
   "cell_type": "code",
   "execution_count": 5,
   "id": "7ad8bbe7-e4f2-4509-abcb-3d8b52e9c0f4",
   "metadata": {},
   "outputs": [
    {
     "data": {
      "text/plain": [
       "(True, 'Inida', 23.34, 1, 'a')"
      ]
     },
     "execution_count": 5,
     "metadata": {},
     "output_type": "execute_result"
    }
   ],
   "source": [
    "my_tuple1[: : -1] ## reverse all elements of tuple"
   ]
  },
  {
   "cell_type": "raw",
   "id": "0f9d6fa1-c9d9-45e5-9144-bfff123cd57e",
   "metadata": {},
   "source": [
    "# Concatenation"
   ]
  },
  {
   "cell_type": "code",
   "execution_count": 6,
   "id": "53e5873e-030d-4195-a388-613c212de970",
   "metadata": {},
   "outputs": [
    {
     "data": {
      "text/plain": [
       "('a', 1, 23.34, 'Inida', True)"
      ]
     },
     "execution_count": 6,
     "metadata": {},
     "output_type": "execute_result"
    }
   ],
   "source": [
    "my_tuple1"
   ]
  },
  {
   "cell_type": "code",
   "execution_count": 9,
   "id": "bb9a2b4d-857c-4139-8218-3886ea901a92",
   "metadata": {},
   "outputs": [
    {
     "data": {
      "text/plain": [
       "(5, 33.33, False)"
      ]
     },
     "execution_count": 9,
     "metadata": {},
     "output_type": "execute_result"
    }
   ],
   "source": [
    "my_tuple2 = (5, 33.33, False)\n",
    "my_tuple2"
   ]
  },
  {
   "cell_type": "code",
   "execution_count": 11,
   "id": "498aedf6-a824-4b02-9988-52f218a4ac77",
   "metadata": {},
   "outputs": [
    {
     "data": {
      "text/plain": [
       "('a', 1, 23.34, 'Inida', True, 5, 33.33, False)"
      ]
     },
     "execution_count": 11,
     "metadata": {},
     "output_type": "execute_result"
    }
   ],
   "source": [
    "my_new_tuple = my_tuple1 + my_tuple2  ## using '+' operator you can concat two tuples\n",
    "my_new_tuple"
   ]
  },
  {
   "cell_type": "code",
   "execution_count": 13,
   "id": "825fc7e9-1cc8-44b3-9cf5-fce85425cd72",
   "metadata": {},
   "outputs": [
    {
     "data": {
      "text/plain": [
       "('a', 1, 23.34, 'Inida', True, 5, 33.33, False, '5', 5, '6')"
      ]
     },
     "execution_count": 13,
     "metadata": {},
     "output_type": "execute_result"
    }
   ],
   "source": [
    "new_tuple = my_new_tuple + ('5', 5, '6')  #tuples can have duplicate\n",
    "new_tuple"
   ]
  },
  {
   "cell_type": "raw",
   "id": "3d7e3420-ddf4-4867-8429-a0f4be365341",
   "metadata": {},
   "source": [
    "# Repetation"
   ]
  },
  {
   "cell_type": "code",
   "execution_count": 15,
   "id": "16d0feaf-f82a-47ac-a261-f428048d40fc",
   "metadata": {},
   "outputs": [
    {
     "data": {
      "text/plain": [
       "('a',\n",
       " 1,\n",
       " 23.34,\n",
       " 'Inida',\n",
       " True,\n",
       " 'a',\n",
       " 1,\n",
       " 23.34,\n",
       " 'Inida',\n",
       " True,\n",
       " 'a',\n",
       " 1,\n",
       " 23.34,\n",
       " 'Inida',\n",
       " True)"
      ]
     },
     "execution_count": 15,
     "metadata": {},
     "output_type": "execute_result"
    }
   ],
   "source": [
    "my_tuple1 * 3 ## tuples can"
   ]
  },
  {
   "cell_type": "raw",
   "id": "c199457c-fcec-4b7d-aabd-04356707dc03",
   "metadata": {},
   "source": [
    "# Immutablity"
   ]
  },
  {
   "cell_type": "code",
   "execution_count": 17,
   "id": "c1a4c0d3-0f44-4716-9c0c-94919abdf6c5",
   "metadata": {},
   "outputs": [
    {
     "data": {
      "text/plain": [
       "('a', 'b', 'c')"
      ]
     },
     "execution_count": 17,
     "metadata": {},
     "output_type": "execute_result"
    }
   ],
   "source": [
    "my_tuple = ('a', 'b', 'c')\n",
    "my_tuple"
   ]
  },
  {
   "cell_type": "code",
   "execution_count": 18,
   "id": "b9501e95-477b-4d2f-b296-5156e445afa7",
   "metadata": {},
   "outputs": [
    {
     "ename": "TypeError",
     "evalue": "'tuple' object does not support item assignment",
     "output_type": "error",
     "traceback": [
      "\u001b[1;31m---------------------------------------------------------------------------\u001b[0m",
      "\u001b[1;31mTypeError\u001b[0m                                 Traceback (most recent call last)",
      "Cell \u001b[1;32mIn[18], line 1\u001b[0m\n\u001b[1;32m----> 1\u001b[0m my_tuple[\u001b[38;5;241m0\u001b[39m] \u001b[38;5;241m=\u001b[39m \u001b[38;5;124m'\u001b[39m\u001b[38;5;124mP\u001b[39m\u001b[38;5;124m'\u001b[39m\n",
      "\u001b[1;31mTypeError\u001b[0m: 'tuple' object does not support item assignment"
     ]
    }
   ],
   "source": [
    "my_tuple[0] = 'P' ## tuples are immutable"
   ]
  },
  {
   "cell_type": "code",
   "execution_count": 19,
   "id": "e0e033a8-c1f9-453f-a6cd-599ebb05e51a",
   "metadata": {},
   "outputs": [
    {
     "ename": "AttributeError",
     "evalue": "'tuple' object has no attribute 'append'",
     "output_type": "error",
     "traceback": [
      "\u001b[1;31m---------------------------------------------------------------------------\u001b[0m",
      "\u001b[1;31mAttributeError\u001b[0m                            Traceback (most recent call last)",
      "Cell \u001b[1;32mIn[19], line 1\u001b[0m\n\u001b[1;32m----> 1\u001b[0m my_tuple\u001b[38;5;241m.\u001b[39mappend(\u001b[38;5;124m'\u001b[39m\u001b[38;5;124mf\u001b[39m\u001b[38;5;124m'\u001b[39m)\n",
      "\u001b[1;31mAttributeError\u001b[0m: 'tuple' object has no attribute 'append'"
     ]
    }
   ],
   "source": [
    "my_tuple.append('f') # you cannot append tuples"
   ]
  },
  {
   "cell_type": "code",
   "execution_count": 21,
   "id": "5c9061cc-d586-4f37-8f0c-4b34de89372b",
   "metadata": {},
   "outputs": [
    {
     "ename": "AttributeError",
     "evalue": "'tuple' object has no attribute 'remove'",
     "output_type": "error",
     "traceback": [
      "\u001b[1;31m---------------------------------------------------------------------------\u001b[0m",
      "\u001b[1;31mAttributeError\u001b[0m                            Traceback (most recent call last)",
      "Cell \u001b[1;32mIn[21], line 1\u001b[0m\n\u001b[1;32m----> 1\u001b[0m my_tuple\u001b[38;5;241m.\u001b[39mremove(\u001b[38;5;241m0\u001b[39m)\n",
      "\u001b[1;31mAttributeError\u001b[0m: 'tuple' object has no attribute 'remove'"
     ]
    }
   ],
   "source": [
    "my_tuple.remove(0) # you cannot remove tuples"
   ]
  },
  {
   "cell_type": "code",
   "execution_count": 24,
   "id": "0daaec30-8f49-4151-a396-00c59be0922d",
   "metadata": {},
   "outputs": [],
   "source": [
    "my_tuple = ('a', 'b', 'c')\n"
   ]
  },
  {
   "cell_type": "code",
   "execution_count": 27,
   "id": "126f904a-62d2-466b-9004-a5c300cdd4d0",
   "metadata": {},
   "outputs": [
    {
     "data": {
      "text/plain": [
       "('a', 'b', 'c')"
      ]
     },
     "execution_count": 27,
     "metadata": {},
     "output_type": "execute_result"
    }
   ],
   "source": [
    "new_tuple1 = my_tuple  ## tuple can be assigned to another tuple varible\n",
    "new_tuple1"
   ]
  },
  {
   "cell_type": "raw",
   "id": "3249db43-9694-45fb-8b34-396fb1f22766",
   "metadata": {},
   "source": [
    "# Operations"
   ]
  },
  {
   "cell_type": "code",
   "execution_count": 44,
   "id": "3e0b524e-8ebd-4725-9220-1d8c85320a2e",
   "metadata": {},
   "outputs": [
    {
     "data": {
      "text/plain": [
       "('a', 'b', 'c', 'c', 'd')"
      ]
     },
     "execution_count": 44,
     "metadata": {},
     "output_type": "execute_result"
    }
   ],
   "source": [
    "new_tuple = ('a', 'b', 'c', 'c', 'd')\n",
    "new_tuple"
   ]
  },
  {
   "cell_type": "markdown",
   "id": "4e228bec-70ef-472d-9b3c-96b02f6d9e8a",
   "metadata": {},
   "source": [
    "# index() function"
   ]
  },
  {
   "cell_type": "code",
   "execution_count": 35,
   "id": "32f77952-a4b7-4775-ba74-0b225d65f9c0",
   "metadata": {},
   "outputs": [
    {
     "data": {
      "text/plain": [
       "('a', 'b', 'c', 'c', 'd')"
      ]
     },
     "execution_count": 35,
     "metadata": {},
     "output_type": "execute_result"
    }
   ],
   "source": [
    "new_tuple"
   ]
  },
  {
   "cell_type": "code",
   "execution_count": 32,
   "id": "b0df37b4-9a52-4033-b8a5-5da1f352c853",
   "metadata": {},
   "outputs": [
    {
     "data": {
      "text/plain": [
       "2"
      ]
     },
     "execution_count": 32,
     "metadata": {},
     "output_type": "execute_result"
    }
   ],
   "source": [
    "new_tuple.index('c') ## get first index of elements in tuple"
   ]
  },
  {
   "cell_type": "code",
   "execution_count": 33,
   "id": "b126879a-0c48-40a3-9a4b-5882cb4d0e42",
   "metadata": {},
   "outputs": [
    {
     "data": {
      "text/plain": [
       "4"
      ]
     },
     "execution_count": 33,
     "metadata": {},
     "output_type": "execute_result"
    }
   ],
   "source": [
    "new_tuple.index('d') "
   ]
  },
  {
   "cell_type": "code",
   "execution_count": 34,
   "id": "f3788580-f3f9-48f5-9305-daf6a22a9ced",
   "metadata": {},
   "outputs": [
    {
     "data": {
      "text/plain": [
       "1"
      ]
     },
     "execution_count": 34,
     "metadata": {},
     "output_type": "execute_result"
    }
   ],
   "source": [
    "new_tuple.index('b') "
   ]
  },
  {
   "cell_type": "markdown",
   "id": "747616e8-a78c-41c3-8f60-4019d670c668",
   "metadata": {},
   "source": [
    "# count() finction"
   ]
  },
  {
   "cell_type": "code",
   "execution_count": 36,
   "id": "96ee9be0-838b-4813-80aa-edc8c1eb82d9",
   "metadata": {},
   "outputs": [
    {
     "data": {
      "text/plain": [
       "('a', 'b', 'c', 'c', 'd')"
      ]
     },
     "execution_count": 36,
     "metadata": {},
     "output_type": "execute_result"
    }
   ],
   "source": [
    "new_tuple"
   ]
  },
  {
   "cell_type": "code",
   "execution_count": 37,
   "id": "5fc18f94-9ad9-4ad9-8e72-c77c5ea4eec9",
   "metadata": {},
   "outputs": [
    {
     "data": {
      "text/plain": [
       "1"
      ]
     },
     "execution_count": 37,
     "metadata": {},
     "output_type": "execute_result"
    }
   ],
   "source": [
    "new_tuple.count('a') ## counts how many times elements available in tuple"
   ]
  },
  {
   "cell_type": "code",
   "execution_count": 38,
   "id": "ea5599df-a7e9-400e-8d83-76adb9f84185",
   "metadata": {},
   "outputs": [
    {
     "data": {
      "text/plain": [
       "2"
      ]
     },
     "execution_count": 38,
     "metadata": {},
     "output_type": "execute_result"
    }
   ],
   "source": [
    "new_tuple.count('c')"
   ]
  },
  {
   "cell_type": "raw",
   "id": "ad3cb7f3-1452-49f6-a6a2-f10ad38a3702",
   "metadata": {},
   "source": [
    "# Iterable"
   ]
  },
  {
   "cell_type": "code",
   "execution_count": 45,
   "id": "77499798-7cd5-42c9-a636-30c69f0243e0",
   "metadata": {},
   "outputs": [
    {
     "data": {
      "text/plain": [
       "('a', 'b', 'c', 'c', 'd')"
      ]
     },
     "execution_count": 45,
     "metadata": {},
     "output_type": "execute_result"
    }
   ],
   "source": [
    "new_tuple"
   ]
  },
  {
   "cell_type": "code",
   "execution_count": 41,
   "id": "1a68c248-3faf-400a-93b1-055dfb28ad09",
   "metadata": {},
   "outputs": [
    {
     "name": "stdout",
     "output_type": "stream",
     "text": [
      "( 0 ) a\n",
      "( 1 ) b\n",
      "( 2 ) c\n",
      "( 3 ) c\n",
      "( 4 ) d\n"
     ]
    }
   ],
   "source": [
    "for i in range(len(new_tuple)):\n",
    "    print(\"(\", i, \")\", new_tuple[i])"
   ]
  },
  {
   "cell_type": "markdown",
   "id": "ab1e4860-7e08-443b-adee-b795ad91bd48",
   "metadata": {},
   "source": [
    "# sorted() function"
   ]
  },
  {
   "cell_type": "code",
   "execution_count": 47,
   "id": "16656d23-caea-4065-9dfd-f6f6b67a217f",
   "metadata": {},
   "outputs": [
    {
     "data": {
      "text/plain": [
       "('e', 'b', 'c', 'a', 'c', 'f', 'd')"
      ]
     },
     "execution_count": 47,
     "metadata": {},
     "output_type": "execute_result"
    }
   ],
   "source": [
    "new_tuple1 = ('e', 'b', 'c', 'a' ,'c', 'f', 'd')\n",
    "new_tuple1"
   ]
  },
  {
   "cell_type": "code",
   "execution_count": 48,
   "id": "8ee124a2-8966-4cf1-a08b-e266e9186177",
   "metadata": {},
   "outputs": [
    {
     "data": {
      "text/plain": [
       "['a', 'b', 'c', 'c', 'd', 'e', 'f']"
      ]
     },
     "execution_count": 48,
     "metadata": {},
     "output_type": "execute_result"
    }
   ],
   "source": [
    "sorted(new_tuple1)  ## sort the tuple value using sorted"
   ]
  },
  {
   "cell_type": "code",
   "execution_count": 49,
   "id": "ca26b2ee-d5dc-4b44-972f-b11c4a87dddf",
   "metadata": {},
   "outputs": [
    {
     "data": {
      "text/plain": [
       "(19, 10, 51, 20, 75, 25, 0)"
      ]
     },
     "execution_count": 49,
     "metadata": {},
     "output_type": "execute_result"
    }
   ],
   "source": [
    "scores = (19, 10, 51, 20, 75, 25, 0)\n",
    "scores"
   ]
  },
  {
   "cell_type": "code",
   "execution_count": 50,
   "id": "464f91b8-fa2a-4dd7-ba78-dbc50ada6da1",
   "metadata": {},
   "outputs": [
    {
     "data": {
      "text/plain": [
       "[0, 10, 19, 20, 25, 51, 75]"
      ]
     },
     "execution_count": 50,
     "metadata": {},
     "output_type": "execute_result"
    }
   ],
   "source": [
    "sorted(scores)"
   ]
  },
  {
   "cell_type": "markdown",
   "id": "22cfa4fb-7f23-46c9-9327-ac2ff8cbb20c",
   "metadata": {},
   "source": [
    "# del() function"
   ]
  },
  {
   "cell_type": "code",
   "execution_count": 51,
   "id": "70fa7d5d-8dff-459c-a0c9-ee4838c077e0",
   "metadata": {},
   "outputs": [
    {
     "data": {
      "text/plain": [
       "(19, 10, 51, 20, 75, 25, 0)"
      ]
     },
     "execution_count": 51,
     "metadata": {},
     "output_type": "execute_result"
    }
   ],
   "source": [
    "scores = (19, 10, 51, 20, 75, 25, 0)\n",
    "scores"
   ]
  },
  {
   "cell_type": "code",
   "execution_count": 53,
   "id": "c7cae3a7-a763-4107-b8a0-02a8e2565715",
   "metadata": {},
   "outputs": [
    {
     "ename": "NameError",
     "evalue": "name 'scores' is not defined",
     "output_type": "error",
     "traceback": [
      "\u001b[1;31m---------------------------------------------------------------------------\u001b[0m",
      "\u001b[1;31mNameError\u001b[0m                                 Traceback (most recent call last)",
      "Cell \u001b[1;32mIn[53], line 1\u001b[0m\n\u001b[1;32m----> 1\u001b[0m \u001b[38;5;28;01mdel\u001b[39;00m(scores)\n\u001b[0;32m      2\u001b[0m scores\n",
      "\u001b[1;31mNameError\u001b[0m: name 'scores' is not defined"
     ]
    }
   ],
   "source": [
    "del(scores)  ## remove the tuple and throws an error as tuple no more available\n",
    "scores"
   ]
  },
  {
   "cell_type": "code",
   "execution_count": 55,
   "id": "6c83f6e5-24b9-479c-8318-6e7824908a81",
   "metadata": {},
   "outputs": [
    {
     "name": "stdin",
     "output_type": "stream",
     "text": [
      "Entre the sentence\n",
      " Danish\n",
      "Entre the sentence\n",
      " Malik\n",
      "Entre the sentence\n",
      " India\n",
      "Entre the sentence\n",
      " Delhi\n",
      "Entre the sentence\n",
      " Okhla\n"
     ]
    },
    {
     "name": "stdout",
     "output_type": "stream",
     "text": [
      "\n",
      " The elements of tuple are : \n",
      "( 0 )    Danish\n",
      "( 1 )    Malik\n",
      "( 2 )    India\n",
      "( 3 )    Delhi\n",
      "( 4 )    Okhla\n"
     ]
    }
   ],
   "source": [
    "## Accept 5 string value from user and store them as a tuple. Print the elements of tuple with their indices.\n",
    "tuple = ()\n",
    "times = 5\n",
    "\n",
    "for i in range(times):\n",
    "    user_string = input(\"Entre the sentence\\n\")\n",
    "    tuple = tuple + (user_string, )\n",
    "\n",
    "print(\"\\n The elements of tuple are : \")\n",
    "for i in range(len(tuple)):\n",
    "    print(\"(\", i, \")\" , \"  \", tuple[i])"
   ]
  },
  {
   "cell_type": "code",
   "execution_count": 61,
   "id": "1df08217-7f73-405d-b97f-73206cbe4061",
   "metadata": {},
   "outputs": [
    {
     "name": "stdin",
     "output_type": "stream",
     "text": [
      "Entre the sentence\n",
      " Danish\n",
      "Entre the sentence\n",
      " Malik\n",
      "Entre the sentence\n",
      " Okhla\n",
      "Entre the sentence\n",
      " Delhi\n",
      "Entre the sentence\n",
      " India\n"
     ]
    },
    {
     "name": "stdout",
     "output_type": "stream",
     "text": [
      "\n",
      " The elements of tuple(in reverse order) are : \n",
      "( -1 )    India\n",
      "( -2 )    Delhi\n",
      "( -3 )    Okhla\n",
      "( -4 )    Malik\n",
      "( -5 )    Danish\n"
     ]
    }
   ],
   "source": [
    "## Accept 5 string value from user and store them as a tuple. Print the elements of tuple with their indices in reverse order\n",
    "tuple = ()\n",
    "times = 5\n",
    "\n",
    "for i in range(times):\n",
    "    user_string = input(\"Entre the sentence\\n\")\n",
    "    tuple = tuple + (user_string, )\n",
    "\n",
    "print(\"\\n The elements of tuple(in reverse order) are : \")\n",
    "for i in range(1, len(tuple) + 1):\n",
    "    j = -1 * i\n",
    "    print(\"(\", j, \")\" , \"  \", tuple[j])"
   ]
  },
  {
   "cell_type": "markdown",
   "id": "2f4c40b8-ad68-4066-9651-e53929c91287",
   "metadata": {},
   "source": [
    "# Dictionary"
   ]
  },
  {
   "cell_type": "code",
   "execution_count": 62,
   "id": "1b82024c-ba6a-472d-9e33-fef9dfc197aa",
   "metadata": {},
   "outputs": [
    {
     "data": {
      "text/plain": [
       "{}"
      ]
     },
     "execution_count": 62,
     "metadata": {},
     "output_type": "execute_result"
    }
   ],
   "source": [
    "empty_dict = {}\n",
    "empty_dict"
   ]
  },
  {
   "cell_type": "code",
   "execution_count": 63,
   "id": "2eb15c80-0e73-402c-a9f3-3630409c275c",
   "metadata": {},
   "outputs": [
    {
     "data": {
      "text/plain": [
       "dict"
      ]
     },
     "execution_count": 63,
     "metadata": {},
     "output_type": "execute_result"
    }
   ],
   "source": [
    "type(empty_dict)"
   ]
  },
  {
   "cell_type": "code",
   "execution_count": 65,
   "id": "a9908433-46ac-419c-b192-4e3c7b2a59c4",
   "metadata": {},
   "outputs": [
    {
     "data": {
      "text/plain": [
       "{'Jan': 31, 'Feb': 28, 'March': 31, 'Apr': 30, 'May': 31}"
      ]
     },
     "execution_count": 65,
     "metadata": {},
     "output_type": "execute_result"
    }
   ],
   "source": [
    "month_dict = {'Jan':31, 'Feb':28, 'March':31, 'Apr':30, 'May':31}  # keys are a string\n",
    "month_dict"
   ]
  },
  {
   "cell_type": "code",
   "execution_count": 66,
   "id": "85a66c5e-d318-4dcc-aca5-c9e6ba734b8b",
   "metadata": {},
   "outputs": [
    {
     "data": {
      "text/plain": [
       "{1: 'Jan', 2: 'Feb', 3: 'March', 4: 'Apr', 5: 'May'}"
      ]
     },
     "execution_count": 66,
     "metadata": {},
     "output_type": "execute_result"
    }
   ],
   "source": [
    "month_dict1 = {1:'Jan', 2:'Feb', 3:'March', 4:'Apr', 5:'May'}   # keys are a numbers\n",
    "month_dict1"
   ]
  },
  {
   "cell_type": "code",
   "execution_count": 68,
   "id": "9937fa80-1894-4d02-8782-7245c5113095",
   "metadata": {},
   "outputs": [
    {
     "data": {
      "text/plain": [
       "{(1, 2): 'Jan', (3, 4): 'Feb'}"
      ]
     },
     "execution_count": 68,
     "metadata": {},
     "output_type": "execute_result"
    }
   ],
   "source": [
    "month_dict2 = {(1,2019):'Jan', (2,2019):'Feb'}   # key can be a tuple\n",
    "month_dict2"
   ]
  },
  {
   "cell_type": "code",
   "execution_count": 69,
   "id": "d01828e0-91e8-4730-a37d-86a27547810b",
   "metadata": {},
   "outputs": [
    {
     "ename": "TypeError",
     "evalue": "unhashable type: 'list'",
     "output_type": "error",
     "traceback": [
      "\u001b[1;31m---------------------------------------------------------------------------\u001b[0m",
      "\u001b[1;31mTypeError\u001b[0m                                 Traceback (most recent call last)",
      "Cell \u001b[1;32mIn[69], line 1\u001b[0m\n\u001b[1;32m----> 1\u001b[0m month_dict3 \u001b[38;5;241m=\u001b[39m {[\u001b[38;5;241m1\u001b[39m,\u001b[38;5;241m2020\u001b[39m]:\u001b[38;5;124m'\u001b[39m\u001b[38;5;124mJan\u001b[39m\u001b[38;5;124m'\u001b[39m, [\u001b[38;5;241m2\u001b[39m,\u001b[38;5;241m2020\u001b[39m]:\u001b[38;5;124m'\u001b[39m\u001b[38;5;124mFeb\u001b[39m\u001b[38;5;124m'\u001b[39m}   \u001b[38;5;66;03m# key cannot be a list\u001b[39;00m\n\u001b[0;32m      2\u001b[0m month_dict2\n",
      "\u001b[1;31mTypeError\u001b[0m: unhashable type: 'list'"
     ]
    }
   ],
   "source": [
    "month_dict3 = {[1,2020]:'Jan', [2,2020]:'Feb'}   # key cannot be a list\n",
    "month_dict2"
   ]
  },
  {
   "cell_type": "markdown",
   "id": "f23c53d1-17a3-46c3-899d-a3c857210948",
   "metadata": {},
   "source": [
    "# dict() function"
   ]
  },
  {
   "cell_type": "code",
   "execution_count": 71,
   "id": "b9d601cb-b4eb-4d3f-918d-24496db8e845",
   "metadata": {},
   "outputs": [
    {
     "data": {
      "text/plain": [
       "{'A': 1, 'B': 2, 'C': 3}"
      ]
     },
     "execution_count": 71,
     "metadata": {},
     "output_type": "execute_result"
    }
   ],
   "source": [
    "a = dict([('A',1), ('B',2), ('C',3)])  # this function used to create from list of tuples\n",
    "a"
   ]
  },
  {
   "cell_type": "raw",
   "id": "5b77f081-629e-4207-b52b-8716c920cf1a",
   "metadata": {},
   "source": [
    "# Accessing of keys and values"
   ]
  },
  {
   "cell_type": "code",
   "execution_count": 72,
   "id": "7f1aaeac-6c6c-4fb0-b153-25b92e93a032",
   "metadata": {},
   "outputs": [
    {
     "data": {
      "text/plain": [
       "{'Jan': 31, 'Feb': 28, 'March': 31, 'Apr': 30, 'May': 31}"
      ]
     },
     "execution_count": 72,
     "metadata": {},
     "output_type": "execute_result"
    }
   ],
   "source": [
    "month_dict = {'Jan':31, 'Feb':28, 'March':31, 'Apr':30, 'May':31}  # keys are a string\n",
    "month_dict"
   ]
  },
  {
   "cell_type": "code",
   "execution_count": 74,
   "id": "2d7d6381-c42b-409a-b761-ddb04a0b1c50",
   "metadata": {},
   "outputs": [
    {
     "data": {
      "text/plain": [
       "dict_keys(['Jan', 'Feb', 'March', 'Apr', 'May'])"
      ]
     },
     "execution_count": 74,
     "metadata": {},
     "output_type": "execute_result"
    }
   ],
   "source": [
    "month_dict.keys()"
   ]
  },
  {
   "cell_type": "code",
   "execution_count": 75,
   "id": "0b366bb4-7f09-4251-9073-86450d8b58c6",
   "metadata": {},
   "outputs": [
    {
     "data": {
      "text/plain": [
       "dict_values([31, 28, 31, 30, 31])"
      ]
     },
     "execution_count": 75,
     "metadata": {},
     "output_type": "execute_result"
    }
   ],
   "source": [
    "month_dict.values()"
   ]
  },
  {
   "cell_type": "code",
   "execution_count": 76,
   "id": "53517edf-2589-499b-8bd0-f2557a92ecef",
   "metadata": {},
   "outputs": [
    {
     "data": {
      "text/plain": [
       "dict_items([('Jan', 31), ('Feb', 28), ('March', 31), ('Apr', 30), ('May', 31)])"
      ]
     },
     "execution_count": 76,
     "metadata": {},
     "output_type": "execute_result"
    }
   ],
   "source": [
    "month_dict.items()"
   ]
  },
  {
   "cell_type": "code",
   "execution_count": 77,
   "id": "f9ab1aee-38a0-41f1-b347-46858411245e",
   "metadata": {},
   "outputs": [
    {
     "data": {
      "text/plain": [
       "30"
      ]
     },
     "execution_count": 77,
     "metadata": {},
     "output_type": "execute_result"
    }
   ],
   "source": [
    "month_dict.get('Apr')  ## access vales of keys"
   ]
  },
  {
   "cell_type": "raw",
   "id": "fe4e8b3b-def5-488b-a6b3-6b15fe722680",
   "metadata": {},
   "source": [
    "# 'in' and 'not in'"
   ]
  },
  {
   "cell_type": "code",
   "execution_count": 78,
   "id": "f19df1c2-d231-47fa-a0b3-e5ac773b5e9b",
   "metadata": {},
   "outputs": [
    {
     "data": {
      "text/plain": [
       "True"
      ]
     },
     "execution_count": 78,
     "metadata": {},
     "output_type": "execute_result"
    }
   ],
   "source": [
    "'Apr' in month_dict"
   ]
  },
  {
   "cell_type": "code",
   "execution_count": 79,
   "id": "fa3c0dca-9208-4fbd-b025-6dd97c084a84",
   "metadata": {},
   "outputs": [
    {
     "data": {
      "text/plain": [
       "False"
      ]
     },
     "execution_count": 79,
     "metadata": {},
     "output_type": "execute_result"
    }
   ],
   "source": [
    "'xyz' in month_dict"
   ]
  },
  {
   "cell_type": "code",
   "execution_count": 80,
   "id": "83a9894d-e898-4657-bea9-9a64ea4f1de4",
   "metadata": {},
   "outputs": [
    {
     "data": {
      "text/plain": [
       "True"
      ]
     },
     "execution_count": 80,
     "metadata": {},
     "output_type": "execute_result"
    }
   ],
   "source": [
    "'Dec' not in month_dict"
   ]
  },
  {
   "cell_type": "raw",
   "id": "eeba5567-f769-4db9-b6fd-f9fd8f1f7f58",
   "metadata": {},
   "source": [
    "# Loopin"
   ]
  },
  {
   "cell_type": "code",
   "execution_count": 82,
   "id": "df95cf45-9208-4532-b0da-0fe20291e511",
   "metadata": {},
   "outputs": [
    {
     "data": {
      "text/plain": [
       "{'I': 1, 'V': 5, 'X': 11, 'Z': 50, 'C': 100, 'A': 10, 'D': 90}"
      ]
     },
     "execution_count": 82,
     "metadata": {},
     "output_type": "execute_result"
    }
   ],
   "source": [
    "letter_dict = {'I':1, 'V':5, 'X':11, 'Z':50, 'C':100, 'A':10, 'D':90}\n",
    "letter_dict"
   ]
  },
  {
   "cell_type": "code",
   "execution_count": 83,
   "id": "b4208f2b-3e45-49cf-97c6-4128cdfb9a2f",
   "metadata": {},
   "outputs": [
    {
     "name": "stdout",
     "output_type": "stream",
     "text": [
      "    I\n",
      "    V\n",
      "    X\n",
      "    Z\n",
      "    C\n",
      "    A\n",
      "    D\n"
     ]
    }
   ],
   "source": [
    "for key in letter_dict.keys():  # iterate over keys\n",
    "    print(\"   \", key)"
   ]
  },
  {
   "cell_type": "code",
   "execution_count": 85,
   "id": "a553d671-76c5-4531-834b-7e0c999c7f1f",
   "metadata": {},
   "outputs": [
    {
     "name": "stdout",
     "output_type": "stream",
     "text": [
      "    1\n",
      "    5\n",
      "    11\n",
      "    50\n",
      "    100\n",
      "    10\n",
      "    90\n"
     ]
    }
   ],
   "source": [
    "for value in letter_dict.values():  # iterate over values\n",
    "    print(\"   \", value)"
   ]
  },
  {
   "cell_type": "code",
   "execution_count": 87,
   "id": "83b178cd-d3d8-4052-8cdf-b110051024bc",
   "metadata": {},
   "outputs": [
    {
     "name": "stdout",
     "output_type": "stream",
     "text": [
      "I     1\n",
      "V     5\n",
      "X     11\n",
      "Z     50\n",
      "C     100\n",
      "A     10\n",
      "D     90\n"
     ]
    }
   ],
   "source": [
    "for key in letter_dict.keys():  # iterate over keys\n",
    "    print(key, \"   \", letter_dict[key])"
   ]
  },
  {
   "cell_type": "raw",
   "id": "94bd7870-bd59-475f-9b99-353c7c6093f2",
   "metadata": {},
   "source": [
    "# Operation on Dictionary"
   ]
  },
  {
   "cell_type": "code",
   "execution_count": 88,
   "id": "a1060513-21b0-48af-a192-0275ef895203",
   "metadata": {},
   "outputs": [
    {
     "data": {
      "text/plain": [
       "{'Jan': 31, 'Feb': 28, 'March': 31, 'Apr': 30, 'May': 31}"
      ]
     },
     "execution_count": 88,
     "metadata": {},
     "output_type": "execute_result"
    }
   ],
   "source": [
    "month_dict = {'Jan':31, 'Feb':28, 'March':31, 'Apr':30, 'May':31}  # keys are a string\n",
    "month_dict"
   ]
  },
  {
   "cell_type": "code",
   "execution_count": 95,
   "id": "947a9fc0-3e16-49a3-bd28-95b5328d64ad",
   "metadata": {},
   "outputs": [],
   "source": [
    "month_dict['Dec'] = 31 # with this we can assignn"
   ]
  },
  {
   "cell_type": "code",
   "execution_count": 96,
   "id": "6533405b-9dca-4b15-a882-6f6ff35944a8",
   "metadata": {},
   "outputs": [
    {
     "data": {
      "text/plain": [
       "{'Jan': 31, 'Feb': 28, 'March': 31, 'Apr': 30, 'May': 31, 'Dec': 31}"
      ]
     },
     "execution_count": 96,
     "metadata": {},
     "output_type": "execute_result"
    }
   ],
   "source": [
    "month_dict"
   ]
  },
  {
   "cell_type": "code",
   "execution_count": 97,
   "id": "6099f48d-b8cc-456d-bc0b-a105d0b95e92",
   "metadata": {},
   "outputs": [
    {
     "data": {
      "text/plain": [
       "{'Jan': 31, 'Feb': 28, 'March': 31, 'Apr': 30, 'May': 31}"
      ]
     },
     "execution_count": 97,
     "metadata": {},
     "output_type": "execute_result"
    }
   ],
   "source": [
    "del(month_dict['Dec']) # we can remove key by del()\n",
    "month_dict"
   ]
  },
  {
   "cell_type": "raw",
   "id": "e1e87b2a-98f4-48ae-aa1e-fce3c229cb91",
   "metadata": {},
   "source": [
    "# Dictionary with complex object as values"
   ]
  },
  {
   "cell_type": "code",
   "execution_count": 98,
   "id": "911923fd-e1e9-4890-b30f-c77b21d9dead",
   "metadata": {},
   "outputs": [
    {
     "data": {
      "text/plain": [
       "{1: ['1', 'Emp A', 30], 2: ['2', 'Emp B', 40], 3: ['3', 'Emp C', 50]}"
      ]
     },
     "execution_count": 98,
     "metadata": {},
     "output_type": "execute_result"
    }
   ],
   "source": [
    "# create a empl database with emp_id as key and list of emp where each value in list has property of an emp\n",
    "\n",
    "emp_date = {1:['1', 'Emp A', 30], 2:['2', 'Emp B', 40], 3:['3', 'Emp C', 50]}\n",
    "emp_date"
   ]
  },
  {
   "cell_type": "code",
   "execution_count": 99,
   "id": "b10c85b7-7154-4d19-8c52-5cf608acef61",
   "metadata": {},
   "outputs": [
    {
     "data": {
      "text/plain": [
       "{1: ['1', 'Emp A', 30],\n",
       " 2: ['2', 'Emp B', 40],\n",
       " 3: ['3', 'Emp C', 50],\n",
       " 4: ['4', 'Emp D', 60]}"
      ]
     },
     "execution_count": 99,
     "metadata": {},
     "output_type": "execute_result"
    }
   ],
   "source": [
    "new_emp = ['4', 'Emp D', 60]  # we can add data to the dict in this way\n",
    "emp_date[4] = new_emp\n",
    "emp_date"
   ]
  },
  {
   "cell_type": "code",
   "execution_count": 100,
   "id": "fea0c92b-beb2-4a88-b374-13ed104f6f71",
   "metadata": {},
   "outputs": [
    {
     "data": {
      "text/plain": [
       "'Emp D'"
      ]
     },
     "execution_count": 100,
     "metadata": {},
     "output_type": "execute_result"
    }
   ],
   "source": [
    "emp_date[4][1]"
   ]
  },
  {
   "cell_type": "code",
   "execution_count": 101,
   "id": "f2a632a7-fd10-4e1d-9c75-50f322dea939",
   "metadata": {},
   "outputs": [
    {
     "data": {
      "text/plain": [
       "50"
      ]
     },
     "execution_count": 101,
     "metadata": {},
     "output_type": "execute_result"
    }
   ],
   "source": [
    "emp_date[3][2]"
   ]
  },
  {
   "cell_type": "code",
   "execution_count": 103,
   "id": "5d351cc4-79b2-4ee1-ade6-b1d856300832",
   "metadata": {},
   "outputs": [
    {
     "data": {
      "text/plain": [
       "{1: ['1', 'Emp A', 30],\n",
       " 2: ['2', 'Emp D', 1000],\n",
       " 3: ['3', 'Emp C', 50],\n",
       " 4: ['4', 'Emp D', 60]}"
      ]
     },
     "execution_count": 103,
     "metadata": {},
     "output_type": "execute_result"
    }
   ],
   "source": [
    "emp_date[2] = ['2', 'Emp D', 1000] # we can modify values\n",
    "emp_date"
   ]
  },
  {
   "cell_type": "code",
   "execution_count": 104,
   "id": "a9148966-7ec0-47fa-bd94-7327af6d8389",
   "metadata": {},
   "outputs": [
    {
     "name": "stdin",
     "output_type": "stream",
     "text": [
      "Enter the product name\n",
      " SamsungS24\n",
      "Enter the price of product\n",
      " 90000\n",
      "Enter the product name\n",
      " S25\n",
      "Enter the price of product\n",
      " 100000\n",
      "Enter the product name\n",
      " S24 ulta\n",
      "Enter the price of product\n",
      " 130000\n"
     ]
    },
    {
     "name": "stdout",
     "output_type": "stream",
     "text": [
      "\n",
      "\n"
     ]
    },
    {
     "name": "stdin",
     "output_type": "stream",
     "text": [
      "Enter the product name\n",
      " S25\n"
     ]
    },
    {
     "name": "stdout",
     "output_type": "stream",
     "text": [
      "The corresponding price is  100000\n"
     ]
    }
   ],
   "source": [
    "# No. of items ask the user to input the information\n",
    "\n",
    "count = 3\n",
    "\n",
    "products = {}\n",
    "\n",
    "for i in range(count):\n",
    "    product_name = input(\"Enter the product name\\n\")\n",
    "    price = eval(input(\"Enter the price of product\\n\"))\n",
    "    products[product_name] = price\n",
    "\n",
    "print(\"\\n\")\n",
    "product_name = input(\"Enter the product name\\n\")\n",
    "print(\"The corresponding price is \", products[product_name])\n",
    "    "
   ]
  },
  {
   "cell_type": "code",
   "execution_count": 106,
   "id": "0d425ba4-0c82-4a15-aadf-5d16bdc0e2d4",
   "metadata": {},
   "outputs": [
    {
     "name": "stdin",
     "output_type": "stream",
     "text": [
      "Enter the month name\n",
      " Oct\n"
     ]
    },
    {
     "name": "stdout",
     "output_type": "stream",
     "text": [
      "Oct  has  31  days.\n",
      "\n",
      "The keys in alphabatical order: \n",
      "\n",
      "Apr\n",
      "Aug\n",
      "Dec\n",
      "Feb\n",
      "Jan\n",
      "July\n",
      "June\n",
      "March\n",
      "May\n",
      "Nov\n",
      "Oct\n",
      "Sep\n"
     ]
    }
   ],
   "source": [
    "months = {'Jan':31, 'Feb':28, 'March':31, 'Apr':30, 'May':31, 'June':30, 'July':31, 'Aug':31, 'Sep':30, 'Oct':31, 'Nov':30, 'Dec':31}  # keys are a string\n",
    "\n",
    "# ask the user to input a month name\n",
    "\n",
    "month_name = input(\"Enter the month name\\n\")\n",
    "print(month_name, \" has \", months[month_name], \" days.\")\n",
    "\n",
    "# printot all the keys in alphabatical order\n",
    "print(\"\\nThe keys in alphabatical order: \\n\")\n",
    "for key in sorted(months.keys()):\n",
    "    print(key)"
   ]
  },
  {
   "cell_type": "code",
   "execution_count": 8,
   "id": "7a94f7ea-c6f0-4f0a-aacb-313ffd633fd0",
   "metadata": {},
   "outputs": [
    {
     "data": {
      "text/plain": [
       "{'key1': [1, 2, 45, [100, 35]],\n",
       " 'key2': (1, 2, 56, 79),\n",
       " 'key3': {3, 4, 5, 90},\n",
       " 'key4': {'x': 'abc', 'y': 'xyz'}}"
      ]
     },
     "execution_count": 8,
     "metadata": {},
     "output_type": "execute_result"
    }
   ],
   "source": [
    "test_dict = {'key1':[1,2,45,[100,35]],\n",
    "             'key2':(1,2,56,79),\n",
    "             'key3':{3,4,5,90},\n",
    "             'key4':{'x':'abc', 'y':'xyz'}}\n",
    "test_dict"
   ]
  },
  {
   "cell_type": "code",
   "execution_count": 5,
   "id": "e5a707bb-7224-4978-97ae-f860716acb70",
   "metadata": {},
   "outputs": [
    {
     "data": {
      "text/plain": [
       "dict_keys(['key1', 'key2', 'key3', 'key4'])"
      ]
     },
     "execution_count": 5,
     "metadata": {},
     "output_type": "execute_result"
    }
   ],
   "source": [
    "test_dict.keys()"
   ]
  },
  {
   "cell_type": "code",
   "execution_count": 6,
   "id": "155431c3-6c4c-46b7-bfaf-4ff14c6b00dd",
   "metadata": {},
   "outputs": [
    {
     "data": {
      "text/plain": [
       "dict_values([[1, 2, 45, [100, 35]], (1, 2, 56, 79), {90, 3, 4, 5}, {'x': 'abc', 'y': 'xyz'}])"
      ]
     },
     "execution_count": 6,
     "metadata": {},
     "output_type": "execute_result"
    }
   ],
   "source": [
    "test_dict.values()"
   ]
  },
  {
   "cell_type": "code",
   "execution_count": 10,
   "id": "aee99ad7-7ac0-4960-b04d-33ed875fa57c",
   "metadata": {},
   "outputs": [
    {
     "data": {
      "text/plain": [
       "100"
      ]
     },
     "execution_count": 10,
     "metadata": {},
     "output_type": "execute_result"
    }
   ],
   "source": [
    "test_dict['key1'][3][0]"
   ]
  },
  {
   "cell_type": "code",
   "execution_count": 11,
   "id": "0a3deeb6-989f-419a-8548-44ecc71599ea",
   "metadata": {},
   "outputs": [
    {
     "data": {
      "text/plain": [
       "'abc'"
      ]
     },
     "execution_count": 11,
     "metadata": {},
     "output_type": "execute_result"
    }
   ],
   "source": [
    "test_dict['key4']['x'] ## dictionary inside a dict."
   ]
  },
  {
   "cell_type": "code",
   "execution_count": 12,
   "id": "a4b4bc85-62a6-4b7e-a204-3afa358f62c1",
   "metadata": {},
   "outputs": [
    {
     "data": {
      "text/plain": [
       "'xyz'"
      ]
     },
     "execution_count": 12,
     "metadata": {},
     "output_type": "execute_result"
    }
   ],
   "source": [
    "test_dict['key4']['y']"
   ]
  },
  {
   "cell_type": "code",
   "execution_count": 16,
   "id": "0d85a355-c79a-4ed3-933d-74468f167c6e",
   "metadata": {},
   "outputs": [
    {
     "data": {
      "text/plain": [
       "{0: 0, 1: 1, 2: 4, 3: 9, 4: 16, 5: 25, 6: 36, 7: 49, 8: 64, 9: 81}"
      ]
     },
     "execution_count": 16,
     "metadata": {},
     "output_type": "execute_result"
    }
   ],
   "source": [
    "{i:i**2 for i in range(10)}   ## square of no. in dict"
   ]
  },
  {
   "cell_type": "code",
   "execution_count": 18,
   "id": "e96eb7c3-dbc4-43f1-be32-0873c32cdbbe",
   "metadata": {},
   "outputs": [
    {
     "data": {
      "text/plain": [
       "[0, 1, 4, 9, 16, 25, 36, 49, 64, 81]"
      ]
     },
     "execution_count": 18,
     "metadata": {},
     "output_type": "execute_result"
    }
   ],
   "source": [
    "[i**2 for i in range(10)]  ## square of no. in list"
   ]
  },
  {
   "cell_type": "code",
   "execution_count": 20,
   "id": "d4515161-d645-4b23-9afa-01b8f9654282",
   "metadata": {},
   "outputs": [
    {
     "data": {
      "text/plain": [
       "{'key1': [1, 2, 45, [100, 35]],\n",
       " 'key2': (1, 2, 56, 79),\n",
       " 'key3': {3, 4, 5, 90},\n",
       " 'key4': {'x': 'abc', 'y': 'xyz'}}"
      ]
     },
     "execution_count": 20,
     "metadata": {},
     "output_type": "execute_result"
    }
   ],
   "source": [
    "test_dict\n"
   ]
  },
  {
   "cell_type": "code",
   "execution_count": 27,
   "id": "8f7b085c-0ec0-4bba-a446-cd7ec3cb204c",
   "metadata": {},
   "outputs": [
    {
     "name": "stdout",
     "output_type": "stream",
     "text": [
      "(1, 2, 56, 79)  is tuple in given dictionary.\n"
     ]
    }
   ],
   "source": [
    "# etracting tuple from dictionary items and puting it in another empty list\n",
    "\n",
    "empty_list = []\n",
    "\n",
    "for i in test_dict.values():\n",
    "    if type(i) == tuple :\n",
    "        for j in i:\n",
    "            empty_list.append(j)\n",
    "\n",
    "print(empty_list, \" is tuple in given dictionary.\")\n",
    "        \n",
    "    "
   ]
  },
  {
   "cell_type": "markdown",
   "id": "782dd5d7-013c-4e22-92ba-291bcf2340b9",
   "metadata": {},
   "source": []
  }
 ],
 "metadata": {
  "kernelspec": {
   "display_name": "Python 3 (ipykernel)",
   "language": "python",
   "name": "python3"
  },
  "language_info": {
   "codemirror_mode": {
    "name": "ipython",
    "version": 3
   },
   "file_extension": ".py",
   "mimetype": "text/x-python",
   "name": "python",
   "nbconvert_exporter": "python",
   "pygments_lexer": "ipython3",
   "version": "3.12.7"
  }
 },
 "nbformat": 4,
 "nbformat_minor": 5
}
