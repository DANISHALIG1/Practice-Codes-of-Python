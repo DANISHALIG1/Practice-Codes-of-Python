{
 "cells": [
  {
   "cell_type": "code",
   "execution_count": 2,
   "id": "e40d9bb5-38ba-4837-8807-02396930bec0",
   "metadata": {},
   "outputs": [
    {
     "name": "stdout",
     "output_type": "stream",
     "text": [
      "Danish\n"
     ]
    }
   ],
   "source": [
    "print(\"Danish\") ## Print is for printing"
   ]
  },
  {
   "cell_type": "code",
   "execution_count": 3,
   "id": "157210b4-3dd3-49ea-9569-1be43d046133",
   "metadata": {},
   "outputs": [
    {
     "name": "stdout",
     "output_type": "stream",
     "text": [
      "Danish\n"
     ]
    },
    {
     "data": {
      "text/plain": [
       "NoneType"
      ]
     },
     "execution_count": 3,
     "metadata": {},
     "output_type": "execute_result"
    }
   ],
   "source": [
    "type (print(\"Danish\")) ## Type is for datatype"
   ]
  },
  {
   "cell_type": "markdown",
   "id": "81266188-7cec-450b-81f0-be1bae8b6130",
   "metadata": {},
   "source": [
    "## STRING"
   ]
  },
  {
   "cell_type": "code",
   "execution_count": 1,
   "id": "0fd6310e-c837-43d6-9b61-fc4b56d42739",
   "metadata": {},
   "outputs": [],
   "source": [
    "my_string = \" Python is a beautiful language\"\n"
   ]
  },
  {
   "cell_type": "code",
   "execution_count": 2,
   "id": "72e01d1d-f210-437d-bb8b-1d7139f618a9",
   "metadata": {},
   "outputs": [
    {
     "data": {
      "text/plain": [
       "' Python is a beautiful language'"
      ]
     },
     "execution_count": 2,
     "metadata": {},
     "output_type": "execute_result"
    }
   ],
   "source": [
    "my_string"
   ]
  },
  {
   "cell_type": "code",
   "execution_count": 3,
   "id": "f5d0eceb-748f-4375-bb51-373ffc000b76",
   "metadata": {},
   "outputs": [],
   "source": [
    "lower_string = my_string.lower()"
   ]
  },
  {
   "cell_type": "code",
   "execution_count": 4,
   "id": "df430f9f-719b-4919-9fc5-00f2485e6a5e",
   "metadata": {},
   "outputs": [
    {
     "data": {
      "text/plain": [
       "' python is a beautiful language'"
      ]
     },
     "execution_count": 4,
     "metadata": {},
     "output_type": "execute_result"
    }
   ],
   "source": [
    "lower_string"
   ]
  },
  {
   "cell_type": "code",
   "execution_count": 5,
   "id": "2e853ba7-64f4-41ea-8f9a-03ef1c74e029",
   "metadata": {},
   "outputs": [],
   "source": [
    "upper_string = my_string.upper()"
   ]
  },
  {
   "cell_type": "code",
   "execution_count": 6,
   "id": "9a24c1c1-e2d0-43ec-8767-b4d6c6ddb374",
   "metadata": {},
   "outputs": [
    {
     "data": {
      "text/plain": [
       "' PYTHON IS A BEAUTIFUL LANGUAGE'"
      ]
     },
     "execution_count": 6,
     "metadata": {},
     "output_type": "execute_result"
    }
   ],
   "source": [
    "upper_string"
   ]
  },
  {
   "cell_type": "code",
   "execution_count": 7,
   "id": "52aa0281-a804-4bdc-be12-89f6ccfd780c",
   "metadata": {},
   "outputs": [
    {
     "data": {
      "text/plain": [
       "' Python is a beautiful language'"
      ]
     },
     "execution_count": 7,
     "metadata": {},
     "output_type": "execute_result"
    }
   ],
   "source": [
    "my_string"
   ]
  },
  {
   "cell_type": "code",
   "execution_count": 8,
   "id": "b2f4bba3-df18-4b0b-98a9-a78c19d12164",
   "metadata": {},
   "outputs": [
    {
     "data": {
      "text/plain": [
       "False"
      ]
     },
     "execution_count": 8,
     "metadata": {},
     "output_type": "execute_result"
    }
   ],
   "source": [
    "my_string.islower()"
   ]
  },
  {
   "cell_type": "code",
   "execution_count": 11,
   "id": "c01c1745-3477-4f10-985c-6de88e59738d",
   "metadata": {},
   "outputs": [
    {
     "data": {
      "text/plain": [
       "False"
      ]
     },
     "execution_count": 11,
     "metadata": {},
     "output_type": "execute_result"
    }
   ],
   "source": [
    "my_string.isupper()"
   ]
  },
  {
   "cell_type": "code",
   "execution_count": 12,
   "id": "ef93a543-843c-4bec-a75e-733a9fedc969",
   "metadata": {},
   "outputs": [
    {
     "data": {
      "text/plain": [
       "2"
      ]
     },
     "execution_count": 12,
     "metadata": {},
     "output_type": "execute_result"
    }
   ],
   "source": [
    "my_string.count('t') ## Count the no. of occurences of i.e.,'t'"
   ]
  },
  {
   "cell_type": "code",
   "execution_count": 13,
   "id": "d7630e6b-9d20-4aa2-a563-916dc4339253",
   "metadata": {},
   "outputs": [
    {
     "data": {
      "text/plain": [
       "17"
      ]
     },
     "execution_count": 13,
     "metadata": {},
     "output_type": "execute_result"
    }
   ],
   "source": [
    "my_string.index('ti') ## returns the index of given set of characters i.e., 'ti'"
   ]
  },
  {
   "cell_type": "markdown",
   "id": "4414d22a-b30d-45d2-8bb9-b143640409aa",
   "metadata": {},
   "source": [
    "# Sting Stripping"
   ]
  },
  {
   "cell_type": "code",
   "execution_count": 14,
   "id": "3c582758-806a-4f51-8798-3207a0c92b93",
   "metadata": {},
   "outputs": [],
   "source": [
    "new_string = \"Python is a beautiful language.   \""
   ]
  },
  {
   "cell_type": "code",
   "execution_count": 15,
   "id": "0a63eb25-a15c-4c39-aa84-174dccd5229b",
   "metadata": {},
   "outputs": [
    {
     "data": {
      "text/plain": [
       "'Python is a beautiful language.   '"
      ]
     },
     "execution_count": 15,
     "metadata": {},
     "output_type": "execute_result"
    }
   ],
   "source": [
    "new_string"
   ]
  },
  {
   "cell_type": "code",
   "execution_count": 16,
   "id": "817fc67c-e870-4cbf-8504-e77e807064bf",
   "metadata": {},
   "outputs": [
    {
     "name": "stdout",
     "output_type": "stream",
     "text": [
      "Python is a beautiful language.\n"
     ]
    }
   ],
   "source": [
    "print(new_string.rstrip()) ## rstrip- trim the spaces from right side of string"
   ]
  },
  {
   "cell_type": "code",
   "execution_count": 18,
   "id": "368b7f48-fc30-4a6e-904d-d1d41b6051cb",
   "metadata": {},
   "outputs": [],
   "source": [
    "new_string1 = \"    India is my Country.\""
   ]
  },
  {
   "cell_type": "code",
   "execution_count": 19,
   "id": "6427a072-59a7-4098-8fc6-613304c41c82",
   "metadata": {},
   "outputs": [
    {
     "name": "stdout",
     "output_type": "stream",
     "text": [
      "India is my Country.\n"
     ]
    }
   ],
   "source": [
    "print(new_string1.lstrip()) ## lstrip- trim the spaces from left side of string"
   ]
  },
  {
   "cell_type": "code",
   "execution_count": 20,
   "id": "5e7c1390-5e00-4026-8d75-173564cc8a6f",
   "metadata": {},
   "outputs": [],
   "source": [
    "new_string2 = \"    I live in Delhi.   \""
   ]
  },
  {
   "cell_type": "code",
   "execution_count": 21,
   "id": "50902139-4513-4cba-ae82-ecc26145e2e8",
   "metadata": {},
   "outputs": [
    {
     "name": "stdout",
     "output_type": "stream",
     "text": [
      "I live in Delhi.\n"
     ]
    }
   ],
   "source": [
    "print(new_string2.strip()) ## strip- trim the spaces from both side of string"
   ]
  },
  {
   "cell_type": "code",
   "execution_count": 30,
   "id": "5f379714-bfd4-4a29-8ea4-c6823fb12a73",
   "metadata": {},
   "outputs": [],
   "source": [
    "new_string3 = \"$$$Python is very usefull in data ind$ustry.\""
   ]
  },
  {
   "cell_type": "code",
   "execution_count": 31,
   "id": "3f6ffeb5-f0f3-48c8-b765-2a9f26673e66",
   "metadata": {},
   "outputs": [
    {
     "data": {
      "text/plain": [
       "'$$$Python is very usefull in data ind$ustry.'"
      ]
     },
     "execution_count": 31,
     "metadata": {},
     "output_type": "execute_result"
    }
   ],
   "source": [
    "new_string3"
   ]
  },
  {
   "cell_type": "code",
   "execution_count": 34,
   "id": "e4f58401-c905-4bdc-a0ba-e4bc1e9aaec2",
   "metadata": {},
   "outputs": [
    {
     "name": "stdout",
     "output_type": "stream",
     "text": [
      "Python is very usefull in data ind$ustry.\n"
     ]
    }
   ],
   "source": [
    "print(new_string3.lstrip(\"$\")) ## strip- trim the spaces from both side of string"
   ]
  },
  {
   "cell_type": "markdown",
   "id": "acfc2c18-1a1a-479a-a4f5-1c9d75791e09",
   "metadata": {},
   "source": [
    "# Substring"
   ]
  },
  {
   "cell_type": "code",
   "execution_count": 35,
   "id": "f80dfec1-37bf-4635-86ce-3f5e26e0d420",
   "metadata": {},
   "outputs": [],
   "source": [
    "my_string = \" Python is a beautiful language\"\n"
   ]
  },
  {
   "cell_type": "code",
   "execution_count": 36,
   "id": "2e25ea6e-f416-4329-b018-38b23eb2346c",
   "metadata": {},
   "outputs": [
    {
     "data": {
      "text/plain": [
       "' Python is a beautiful language'"
      ]
     },
     "execution_count": 36,
     "metadata": {},
     "output_type": "execute_result"
    }
   ],
   "source": [
    "my_string"
   ]
  },
  {
   "cell_type": "code",
   "execution_count": 38,
   "id": "1e1d628e-2f21-451f-9a66-4328cb9453ef",
   "metadata": {},
   "outputs": [
    {
     "data": {
      "text/plain": [
       "19"
      ]
     },
     "execution_count": 38,
     "metadata": {},
     "output_type": "execute_result"
    }
   ],
   "source": [
    "my_string.find('ful') # find is use to find the position where str is present"
   ]
  },
  {
   "cell_type": "code",
   "execution_count": 39,
   "id": "808a0787-aad5-4a59-8962-09a083743859",
   "metadata": {},
   "outputs": [
    {
     "data": {
      "text/plain": [
       "' Python is a beautiful language'"
      ]
     },
     "execution_count": 39,
     "metadata": {},
     "output_type": "execute_result"
    }
   ],
   "source": [
    "my_string"
   ]
  },
  {
   "cell_type": "code",
   "execution_count": 42,
   "id": "c07d84c1-c0fc-4c38-9e9e-d954a477f01a",
   "metadata": {},
   "outputs": [
    {
     "data": {
      "text/plain": [
       "' Pyth#n is a beautiful language'"
      ]
     },
     "execution_count": 42,
     "metadata": {},
     "output_type": "execute_result"
    }
   ],
   "source": [
    "my_string.replace('o','#') # to replace the part of string"
   ]
  },
  {
   "cell_type": "markdown",
   "id": "27b9f1f1-6a58-46f0-99d7-0eace32e00b2",
   "metadata": {},
   "source": [
    "# String Splitting"
   ]
  },
  {
   "cell_type": "code",
   "execution_count": 43,
   "id": "f96c377e-0a88-4700-97ab-e353a24e77ab",
   "metadata": {},
   "outputs": [
    {
     "data": {
      "text/plain": [
       "' Python is a beautiful language'"
      ]
     },
     "execution_count": 43,
     "metadata": {},
     "output_type": "execute_result"
    }
   ],
   "source": [
    "my_string"
   ]
  },
  {
   "cell_type": "code",
   "execution_count": 44,
   "id": "3b2530dc-3b89-4fed-856b-c6a955169e79",
   "metadata": {},
   "outputs": [
    {
     "data": {
      "text/plain": [
       "['Python', 'is', 'a', 'beautiful', 'language']"
      ]
     },
     "execution_count": 44,
     "metadata": {},
     "output_type": "execute_result"
    }
   ],
   "source": [
    "my_string.split() #split using default delimiter i.e., white space"
   ]
  },
  {
   "cell_type": "code",
   "execution_count": 45,
   "id": "ac3c2909-a1b0-4b48-a9c0-7d13289f3282",
   "metadata": {},
   "outputs": [],
   "source": [
    "splitted_string = my_string.split()"
   ]
  },
  {
   "cell_type": "code",
   "execution_count": 57,
   "id": "921fdb21-c395-4f6b-a9ad-a8543064688c",
   "metadata": {},
   "outputs": [
    {
     "data": {
      "text/plain": [
       "list"
      ]
     },
     "execution_count": 57,
     "metadata": {},
     "output_type": "execute_result"
    }
   ],
   "source": [
    "type(splitted_string)"
   ]
  },
  {
   "cell_type": "code",
   "execution_count": 46,
   "id": "994291e5-8691-4723-b45f-03a59a57ae6d",
   "metadata": {},
   "outputs": [
    {
     "data": {
      "text/plain": [
       "['Python', 'is', 'a', 'beautiful', 'language']"
      ]
     },
     "execution_count": 46,
     "metadata": {},
     "output_type": "execute_result"
    }
   ],
   "source": [
    "splitted_string"
   ]
  },
  {
   "cell_type": "code",
   "execution_count": 47,
   "id": "446e94e8-dfe1-4ea4-8f1d-a8b5c1771953",
   "metadata": {},
   "outputs": [
    {
     "data": {
      "text/plain": [
       "' Python is a beautiful language'"
      ]
     },
     "execution_count": 47,
     "metadata": {},
     "output_type": "execute_result"
    }
   ],
   "source": [
    "my_string"
   ]
  },
  {
   "cell_type": "code",
   "execution_count": 48,
   "id": "acaad6b6-00a6-4963-a1d9-ed1c41bbb9b3",
   "metadata": {},
   "outputs": [
    {
     "data": {
      "text/plain": [
       "'Python'"
      ]
     },
     "execution_count": 48,
     "metadata": {},
     "output_type": "execute_result"
    }
   ],
   "source": [
    "splitted_string[0] # access first part of splitted string"
   ]
  },
  {
   "cell_type": "code",
   "execution_count": 49,
   "id": "4795fd61-d46c-41b7-8426-aafe5cd259e5",
   "metadata": {},
   "outputs": [
    {
     "data": {
      "text/plain": [
       "'is'"
      ]
     },
     "execution_count": 49,
     "metadata": {},
     "output_type": "execute_result"
    }
   ],
   "source": [
    "splitted_string[1] # access second part of splitted string"
   ]
  },
  {
   "cell_type": "code",
   "execution_count": 50,
   "id": "fae8634f-337e-4860-afc5-9fccbf5a1fe6",
   "metadata": {},
   "outputs": [
    {
     "data": {
      "text/plain": [
       "'a'"
      ]
     },
     "execution_count": 50,
     "metadata": {},
     "output_type": "execute_result"
    }
   ],
   "source": [
    "splitted_string[2] # access third part of splitted string"
   ]
  },
  {
   "cell_type": "code",
   "execution_count": 51,
   "id": "16b87b77-ac14-4581-ae69-d8873c602420",
   "metadata": {},
   "outputs": [
    {
     "data": {
      "text/plain": [
       "'beautiful'"
      ]
     },
     "execution_count": 51,
     "metadata": {},
     "output_type": "execute_result"
    }
   ],
   "source": [
    "splitted_string[3] # access fouth part of splitted string"
   ]
  },
  {
   "cell_type": "code",
   "execution_count": 52,
   "id": "27639047-e4e6-49a9-9a3b-f69ba90094a6",
   "metadata": {},
   "outputs": [
    {
     "data": {
      "text/plain": [
       "[' Python ', ' a beautiful language']"
      ]
     },
     "execution_count": 52,
     "metadata": {},
     "output_type": "execute_result"
    }
   ],
   "source": [
    "my_string.split('is') # spit using user defined delimiter i.e., 'is' -- it doesn't include delimiter in output"
   ]
  },
  {
   "cell_type": "code",
   "execution_count": 53,
   "id": "84161ca3-d270-4221-bf33-e6d4b21319e2",
   "metadata": {},
   "outputs": [
    {
     "data": {
      "text/plain": [
       "' Python is a beautiful language'"
      ]
     },
     "execution_count": 53,
     "metadata": {},
     "output_type": "execute_result"
    }
   ],
   "source": [
    "my_string"
   ]
  },
  {
   "cell_type": "code",
   "execution_count": 54,
   "id": "5fad21fb-31e0-47fe-ac6b-5098629dc170",
   "metadata": {},
   "outputs": [],
   "source": [
    "part_string = my_string.partition ('is') # spit using user defined delimiter i.e., 'is' -- it contain delimiter in output"
   ]
  },
  {
   "cell_type": "code",
   "execution_count": 55,
   "id": "afad3a28-3d50-4972-83d9-6c02a65e8d8b",
   "metadata": {},
   "outputs": [
    {
     "data": {
      "text/plain": [
       "(' Python ', 'is', ' a beautiful language')"
      ]
     },
     "execution_count": 55,
     "metadata": {},
     "output_type": "execute_result"
    }
   ],
   "source": [
    "part_string"
   ]
  },
  {
   "cell_type": "code",
   "execution_count": 56,
   "id": "e8399a90-c63c-456e-bbe5-b158ba36bce5",
   "metadata": {},
   "outputs": [
    {
     "data": {
      "text/plain": [
       "tuple"
      ]
     },
     "execution_count": 56,
     "metadata": {},
     "output_type": "execute_result"
    }
   ],
   "source": [
    "type(part_string)"
   ]
  },
  {
   "cell_type": "code",
   "execution_count": 1,
   "id": "1e91f292-eaec-4795-8db8-966ebccc6969",
   "metadata": {},
   "outputs": [
    {
     "name": "stdin",
     "output_type": "stream",
     "text": [
      "Enter the statement \n",
      " India is a very beautiful country.\n",
      "Enter the sting to be looked in statement \n",
      " is\n"
     ]
    },
    {
     "name": "stdout",
     "output_type": "stream",
     "text": [
      "Second Sting is present at 6  location in first string\n",
      "Note: -1 Indicates that string is not present\n"
     ]
    }
   ],
   "source": [
    "first_string = input(\"Enter the statement \\n\")\n",
    "second_string = input(\"Enter the sting to be looked in statement \\n\")\n",
    "\n",
    "is_present = first_string.find(second_string)\n",
    "\n",
    "print(\"Second Sting is present at\", is_present, \" location in first string\")\n",
    "print(\"Note: -1 Indicates that string is not present\")\n"
   ]
  },
  {
   "cell_type": "code",
   "execution_count": 8,
   "id": "600e34a8-8034-49d1-b0a6-5d35c47e9d7a",
   "metadata": {},
   "outputs": [
    {
     "name": "stdin",
     "output_type": "stream",
     "text": [
      "Enter the statement \n",
      "  India is a very beautiful country.\n"
     ]
    },
    {
     "name": "stdout",
     "output_type": "stream",
     "text": [
      "You entered :   India is a very beautiful country.\n",
      "The Lower case of string :   india is a very beautiful country.\n",
      "The Upper case of string :   INDIA IS A VERY BEAUTIFUL COUNTRY.\n",
      "The reversed string :  .yrtnuoc lufituaeb yrev a si aidnI \n"
     ]
    }
   ],
   "source": [
    "user_string = input(\"Enter the statement \\n\")\n",
    "print(\"You entered : \", user_string)\n",
    "\n",
    "print(\"The Lower case of string : \", user_string.lower())\n",
    "print(\"The Upper case of string : \", user_string.upper())\n",
    "print(\"The reversed string : \", user_string[ : : -1])\n"
   ]
  },
  {
   "cell_type": "markdown",
   "id": "6c4c9baf-b69b-40b8-bf91-771a09551087",
   "metadata": {},
   "source": [
    "# LIST"
   ]
  },
  {
   "cell_type": "code",
   "execution_count": 9,
   "id": "be37e326-e15c-4caf-924d-952a4584854d",
   "metadata": {},
   "outputs": [],
   "source": [
    "empty_list = []"
   ]
  },
  {
   "cell_type": "code",
   "execution_count": 10,
   "id": "304ed1c7-61e4-4f8f-8976-ba911a57085f",
   "metadata": {},
   "outputs": [
    {
     "data": {
      "text/plain": [
       "[]"
      ]
     },
     "execution_count": 10,
     "metadata": {},
     "output_type": "execute_result"
    }
   ],
   "source": [
    "empty_list"
   ]
  },
  {
   "cell_type": "code",
   "execution_count": 11,
   "id": "39bece8c-9472-45c0-bb75-4dab195e19fc",
   "metadata": {},
   "outputs": [],
   "source": [
    "my_list = [1,2,3,4,5,6]"
   ]
  },
  {
   "cell_type": "code",
   "execution_count": 14,
   "id": "969b6b9e-573a-4eda-8934-42bf5cd47432",
   "metadata": {},
   "outputs": [
    {
     "data": {
      "text/plain": [
       "[1, 2, 3, 4, 5, 6]"
      ]
     },
     "execution_count": 14,
     "metadata": {},
     "output_type": "execute_result"
    }
   ],
   "source": [
    "my_list\n"
   ]
  },
  {
   "cell_type": "code",
   "execution_count": 12,
   "id": "331978a7-185a-45a7-bdb9-bb7f671cf61a",
   "metadata": {},
   "outputs": [],
   "source": [
    "my_mixed_list = [1,2,3.3, \"Danish\"]"
   ]
  },
  {
   "cell_type": "code",
   "execution_count": 15,
   "id": "ccf86388-fa92-4271-909d-3b4d981b388b",
   "metadata": {},
   "outputs": [
    {
     "data": {
      "text/plain": [
       "[1, 2, 3.3, 'Danish']"
      ]
     },
     "execution_count": 15,
     "metadata": {},
     "output_type": "execute_result"
    }
   ],
   "source": [
    "my_mixed_list\n"
   ]
  },
  {
   "cell_type": "code",
   "execution_count": 17,
   "id": "e47a1513-b26c-49e5-a9c0-aac64099aceb",
   "metadata": {},
   "outputs": [],
   "source": [
    "list1 = [1,2,3,4] * 3 # repeat the list three times\n"
   ]
  },
  {
   "cell_type": "code",
   "execution_count": 18,
   "id": "949dc89d-bdfe-4a4e-a0ae-53dfe900a703",
   "metadata": {},
   "outputs": [
    {
     "data": {
      "text/plain": [
       "[1, 2, 3, 4, 1, 2, 3, 4, 1, 2, 3, 4]"
      ]
     },
     "execution_count": 18,
     "metadata": {},
     "output_type": "execute_result"
    }
   ],
   "source": [
    "list1"
   ]
  },
  {
   "cell_type": "code",
   "execution_count": 24,
   "id": "e317ae3f-4fda-4acd-adf6-c69958afe633",
   "metadata": {},
   "outputs": [],
   "source": [
    "new_list = [21, 34, 99, 55, 55.9, 101, 109]\n"
   ]
  },
  {
   "cell_type": "code",
   "execution_count": 25,
   "id": "866c62e7-b198-482f-874c-a300650003dd",
   "metadata": {},
   "outputs": [
    {
     "data": {
      "text/plain": [
       "[21, 34, 99, 55, 55.9, 101, 109]"
      ]
     },
     "execution_count": 25,
     "metadata": {},
     "output_type": "execute_result"
    }
   ],
   "source": [
    "new_list"
   ]
  },
  {
   "cell_type": "code",
   "execution_count": 26,
   "id": "da8d412e-0edb-4b7c-82f2-242526de6dbd",
   "metadata": {},
   "outputs": [
    {
     "data": {
      "text/plain": [
       "474.9"
      ]
     },
     "execution_count": 26,
     "metadata": {},
     "output_type": "execute_result"
    }
   ],
   "source": [
    "sum(new_list) # sum is used to sum of all the elements in a list"
   ]
  },
  {
   "cell_type": "code",
   "execution_count": 27,
   "id": "d37cd331-cbd0-4ab1-9b16-b21432a23883",
   "metadata": {},
   "outputs": [
    {
     "data": {
      "text/plain": [
       "21"
      ]
     },
     "execution_count": 27,
     "metadata": {},
     "output_type": "execute_result"
    }
   ],
   "source": [
    "min(new_list) # min is used to find the minimum of all the elements in a list"
   ]
  },
  {
   "cell_type": "code",
   "execution_count": 28,
   "id": "5f2be1f7-9aee-4833-991b-9a1cafb71082",
   "metadata": {},
   "outputs": [
    {
     "data": {
      "text/plain": [
       "109"
      ]
     },
     "execution_count": 28,
     "metadata": {},
     "output_type": "execute_result"
    }
   ],
   "source": [
    "max(new_list) # max is used to find the maximum of all the elements in a list"
   ]
  },
  {
   "cell_type": "markdown",
   "id": "d081aebb-7477-4236-aedd-4be7aa173422",
   "metadata": {},
   "source": [
    "## ------Functions"
   ]
  },
  {
   "cell_type": "code",
   "execution_count": 4,
   "id": "2eef4d3f-f99a-4d9f-a1c8-328f297d50c3",
   "metadata": {},
   "outputs": [],
   "source": [
    "a=5\n"
   ]
  },
  {
   "cell_type": "code",
   "execution_count": 5,
   "id": "52715a5a-7451-45bd-890a-a6ac9b9db2d3",
   "metadata": {},
   "outputs": [
    {
     "data": {
      "text/plain": [
       "int"
      ]
     },
     "execution_count": 5,
     "metadata": {},
     "output_type": "execute_result"
    }
   ],
   "source": [
    "type(a)"
   ]
  },
  {
   "cell_type": "code",
   "execution_count": 6,
   "id": "c92c3f8d-c3c1-44ba-8564-ca0f9440f142",
   "metadata": {},
   "outputs": [],
   "source": [
    "b=45.53"
   ]
  },
  {
   "cell_type": "code",
   "execution_count": 7,
   "id": "95ce134e-5877-42c3-8abc-47e359e0d723",
   "metadata": {},
   "outputs": [
    {
     "data": {
      "text/plain": [
       "float"
      ]
     },
     "execution_count": 7,
     "metadata": {},
     "output_type": "execute_result"
    }
   ],
   "source": [
    "type(b)"
   ]
  },
  {
   "cell_type": "code",
   "execution_count": 2,
   "id": "88db7bb2-e211-4b52-a9af-f991c5df6973",
   "metadata": {},
   "outputs": [
    {
     "name": "stdin",
     "output_type": "stream",
     "text": [
      "enter first number  100\n",
      "enter Second number  20\n"
     ]
    }
   ],
   "source": [
    "num1= int (input(\"enter first number \"))\n",
    "num2= int (input(\"enter Second number \"))"
   ]
  },
  {
   "cell_type": "code",
   "execution_count": 3,
   "id": "1f97df12-552b-4014-aa3e-8633210e8bf2",
   "metadata": {},
   "outputs": [
    {
     "name": "stdout",
     "output_type": "stream",
     "text": [
      "120\n"
     ]
    }
   ],
   "source": [
    "result=num1+num2\n",
    "print(result)"
   ]
  },
  {
   "cell_type": "code",
   "execution_count": 6,
   "id": "5df6b226-d6c7-455b-83bf-91b91db6bcfe",
   "metadata": {},
   "outputs": [],
   "source": [
    "sum_num= num1 + num2\n",
    "diff_num= num1 - num2\n",
    "mult_num= num1 * num2\n",
    "div_num= num1 / num2\n",
    "mod_num= num1 % num2\n",
    "Quot_num= num1 // num2\n",
    "\n"
   ]
  },
  {
   "cell_type": "code",
   "execution_count": 7,
   "id": "0489fea0-cbdb-428d-bd54-2e0940a7ada2",
   "metadata": {},
   "outputs": [
    {
     "name": "stdout",
     "output_type": "stream",
     "text": [
      "Sum of two numbers 100 and 20 is 120\n",
      "Diff of two numbers 100 and 20 is 80\n",
      "Multiple of two numbers 100 and 20 is 2000\n",
      "Divide of two numbers 100 and 20 is 5.0\n",
      "Mode of two numbers 100 and 20 is 0\n",
      "Quotient of two numbers 100 and 20 is 5\n"
     ]
    }
   ],
   "source": [
    "print(\"Sum of two numbers\",num1, \"and\",num2, \"is\",sum_num)\n",
    "print(\"Diff of two numbers\",num1, \"and\",num2, \"is\",diff_num)\n",
    "print(\"Multiple of two numbers\",num1, \"and\",num2, \"is\",mult_num)\n",
    "print(\"Divide of two numbers\",num1, \"and\",num2, \"is\",div_num)\n",
    "print(\"Mode of two numbers\",num1, \"and\",num2, \"is\",mod_num)\n",
    "print(\"Quotient of two numbers\",num1, \"and\",num2, \"is\",Quot_num)\n"
   ]
  },
  {
   "cell_type": "markdown",
   "id": "2dc22ae8-a6f9-4de1-a803-597a8bd68192",
   "metadata": {},
   "source": [
    "## Range() Function"
   ]
  },
  {
   "cell_type": "code",
   "execution_count": 8,
   "id": "c6cac4b3-9588-4d41-9946-3b746cb87807",
   "metadata": {},
   "outputs": [
    {
     "data": {
      "text/plain": [
       "range(0, 10)"
      ]
     },
     "execution_count": 8,
     "metadata": {},
     "output_type": "execute_result"
    }
   ],
   "source": [
    "    range(10) ## print list of values from 0 to n-1"
   ]
  },
  {
   "cell_type": "code",
   "execution_count": 9,
   "id": "36abe2f4-6b62-457a-9cc9-425bf12f937d",
   "metadata": {},
   "outputs": [
    {
     "name": "stdout",
     "output_type": "stream",
     "text": [
      "range(0, 10)\n"
     ]
    }
   ],
   "source": [
    "print(range(10))"
   ]
  },
  {
   "cell_type": "code",
   "execution_count": 10,
   "id": "dc504bde-7302-4e10-9f0b-a1f83a6d5769",
   "metadata": {},
   "outputs": [
    {
     "data": {
      "text/plain": [
       "[0, 1, 2, 3, 4, 5, 6, 7, 8, 9]"
      ]
     },
     "execution_count": 10,
     "metadata": {},
     "output_type": "execute_result"
    }
   ],
   "source": [
    "list(range(10)) ### print list of values from 0 to n-1"
   ]
  },
  {
   "cell_type": "code",
   "execution_count": 11,
   "id": "13f6af61-7ca8-4c6b-a106-53063c90af00",
   "metadata": {},
   "outputs": [
    {
     "data": {
      "text/plain": [
       "[3, 4, 5, 6, 7, 8, 9]"
      ]
     },
     "execution_count": 11,
     "metadata": {},
     "output_type": "execute_result"
    }
   ],
   "source": [
    "list(range(3,10))  ## Print numbers from 3 till 9 "
   ]
  },
  {
   "cell_type": "code",
   "execution_count": 12,
   "id": "917269d2-395b-4e7d-bbf6-54f05e4c3f93",
   "metadata": {},
   "outputs": [
    {
     "data": {
      "text/plain": [
       "[3, 5, 7, 9]"
      ]
     },
     "execution_count": 12,
     "metadata": {},
     "output_type": "execute_result"
    }
   ],
   "source": [
    "list(range(3,10,2))  ## Print numbers from 3 till 9 by skipping one number in between (step size -1)"
   ]
  },
  {
   "cell_type": "code",
   "execution_count": 13,
   "id": "cd6a3a8e-bc83-45e2-92eb-bbf45d6f6b1d",
   "metadata": {},
   "outputs": [
    {
     "data": {
      "text/plain": [
       "[3, 4, 5, 6, 7, 8, 9, 10, 11, 12, 13, 14, 15, 16, 17, 18, 19]"
      ]
     },
     "execution_count": 13,
     "metadata": {},
     "output_type": "execute_result"
    }
   ],
   "source": [
    "list(range(3,20))"
   ]
  },
  {
   "cell_type": "code",
   "execution_count": 14,
   "id": "d638f22f-dabf-415e-957f-73c8db38db6f",
   "metadata": {},
   "outputs": [
    {
     "data": {
      "text/plain": [
       "[3, 6, 9, 12, 15, 18]"
      ]
     },
     "execution_count": 14,
     "metadata": {},
     "output_type": "execute_result"
    }
   ],
   "source": [
    "list(range(3,20,3))  ## Print numbers from 3 till 19 by skipping two number in between (step size -1)"
   ]
  },
  {
   "cell_type": "code",
   "execution_count": 15,
   "id": "1733a288-1ee7-41f5-925f-cfc793895f90",
   "metadata": {},
   "outputs": [
    {
     "ename": "TypeError",
     "evalue": "'float' object cannot be interpreted as an integer",
     "output_type": "error",
     "traceback": [
      "\u001b[1;31m---------------------------------------------------------------------------\u001b[0m",
      "\u001b[1;31mTypeError\u001b[0m                                 Traceback (most recent call last)",
      "Cell \u001b[1;32mIn[15], line 1\u001b[0m\n\u001b[1;32m----> 1\u001b[0m \u001b[38;5;28mlist\u001b[39m(\u001b[38;5;28mrange\u001b[39m(\u001b[38;5;241m2\u001b[39m,\u001b[38;5;241m21.2\u001b[39m,\u001b[38;5;241m32.2\u001b[39m))\n",
      "\u001b[1;31mTypeError\u001b[0m: 'float' object cannot be interpreted as an integer"
     ]
    }
   ],
   "source": [
    "list(range(2,21.2,32.2)) ## Range doesn't work for float"
   ]
  },
  {
   "cell_type": "code",
   "execution_count": 19,
   "id": "49d0f243-a810-4e2b-b6d0-126d7f17512f",
   "metadata": {},
   "outputs": [
    {
     "data": {
      "text/plain": [
       "[2, 4, 6, 8, 10, 12, 14, 16, 18, 20]"
      ]
     },
     "execution_count": 19,
     "metadata": {},
     "output_type": "execute_result"
    }
   ],
   "source": [
    "list(range(2,int(21.2),int(2.1))) ## Range doesn't work for float"
   ]
  },
  {
   "cell_type": "code",
   "execution_count": 20,
   "id": "46751b39-c364-46d9-ad01-026061004be9",
   "metadata": {},
   "outputs": [
    {
     "data": {
      "text/plain": [
       "[45, 42, 39, 36, 33, 30, 27, 24, 21, 18, 15, 12, 9, 6]"
      ]
     },
     "execution_count": 20,
     "metadata": {},
     "output_type": "execute_result"
    }
   ],
   "source": [
    "list(range(45,3,-3))"
   ]
  },
  {
   "cell_type": "code",
   "execution_count": 21,
   "id": "31d7a94d-4cb1-4292-8065-666cfed25bb1",
   "metadata": {},
   "outputs": [
    {
     "data": {
      "text/plain": [
       "[]"
      ]
     },
     "execution_count": 21,
     "metadata": {},
     "output_type": "execute_result"
    }
   ],
   "source": [
    "list(range(3,45,-3)) ## there is no syntax error but it will give empty list\n"
   ]
  },
  {
   "cell_type": "code",
   "execution_count": 22,
   "id": "fd3d1dc9-abbd-4c72-8031-d26eac94b086",
   "metadata": {},
   "outputs": [],
   "source": [
    "name= \"India\""
   ]
  },
  {
   "cell_type": "code",
   "execution_count": 23,
   "id": "b2957132-1346-4494-a887-24e4706c3cb4",
   "metadata": {},
   "outputs": [
    {
     "data": {
      "text/plain": [
       "str"
      ]
     },
     "execution_count": 23,
     "metadata": {},
     "output_type": "execute_result"
    }
   ],
   "source": [
    "type(name)"
   ]
  },
  {
   "cell_type": "code",
   "execution_count": 24,
   "id": "da962fff-541b-43b1-ae95-894d66d56871",
   "metadata": {},
   "outputs": [
    {
     "data": {
      "text/plain": [
       "5"
      ]
     },
     "execution_count": 24,
     "metadata": {},
     "output_type": "execute_result"
    }
   ],
   "source": [
    "len(name)"
   ]
  },
  {
   "cell_type": "code",
   "execution_count": 25,
   "id": "5235a2e2-db86-46f5-8897-a80d1e691422",
   "metadata": {},
   "outputs": [
    {
     "data": {
      "text/plain": [
       "[0, 1, 2, 3, 4]"
      ]
     },
     "execution_count": 25,
     "metadata": {},
     "output_type": "execute_result"
    }
   ],
   "source": [
    "list(range(len(name)))"
   ]
  },
  {
   "cell_type": "code",
   "execution_count": 27,
   "id": "8d8a1311-89b7-4d61-b50e-c4e727c7c72e",
   "metadata": {},
   "outputs": [],
   "source": [
    "list_items = [] ## Sqare bracket stand for list"
   ]
  },
  {
   "cell_type": "code",
   "execution_count": 28,
   "id": "81e13f95-3510-417a-ab3a-32bba99a4bce",
   "metadata": {},
   "outputs": [
    {
     "name": "stdout",
     "output_type": "stream",
     "text": [
      "[]\n"
     ]
    }
   ],
   "source": [
    "print(list_items)"
   ]
  },
  {
   "cell_type": "code",
   "execution_count": 30,
   "id": "d407c150-1ed4-424f-8292-ef7f59009b9a",
   "metadata": {},
   "outputs": [],
   "source": [
    "list_item = [\"Danish\", 3, 2.1, \"Delhi\", True, False]"
   ]
  },
  {
   "cell_type": "code",
   "execution_count": 31,
   "id": "9ccf5fac-3dca-4433-9196-d2da4c318b18",
   "metadata": {},
   "outputs": [
    {
     "name": "stdout",
     "output_type": "stream",
     "text": [
      "['Danish', 3, 2.1, 'Delhi', True, False]\n"
     ]
    }
   ],
   "source": [
    "print(list_item)"
   ]
  },
  {
   "cell_type": "code",
   "execution_count": 32,
   "id": "fe86d8a1-7c0d-4d62-b6fc-f938c79193cf",
   "metadata": {},
   "outputs": [],
   "source": [
    "len_list = len(list_item)"
   ]
  },
  {
   "cell_type": "code",
   "execution_count": 33,
   "id": "5f25274b-7850-493f-9c30-833036d9525a",
   "metadata": {},
   "outputs": [
    {
     "name": "stdout",
     "output_type": "stream",
     "text": [
      "6\n"
     ]
    }
   ],
   "source": [
    "print(len_list)"
   ]
  },
  {
   "cell_type": "code",
   "execution_count": 34,
   "id": "4bc02785-7444-4565-b03e-6b31558eb17a",
   "metadata": {},
   "outputs": [
    {
     "data": {
      "text/plain": [
       "list"
      ]
     },
     "execution_count": 34,
     "metadata": {},
     "output_type": "execute_result"
    }
   ],
   "source": [
    "type(list_item)"
   ]
  },
  {
   "cell_type": "code",
   "execution_count": 37,
   "id": "5b6880b5-a78a-4a1e-840e-28315529e9d7",
   "metadata": {},
   "outputs": [
    {
     "name": "stdout",
     "output_type": "stream",
     "text": [
      "['Danish', 3, 2.1, 'Delhi', True, False]\n"
     ]
    }
   ],
   "source": [
    "print(list_item)"
   ]
  },
  {
   "cell_type": "code",
   "execution_count": 38,
   "id": "cabf062b-eae9-4448-95c9-21940d0be780",
   "metadata": {},
   "outputs": [
    {
     "data": {
      "text/plain": [
       "2.1"
      ]
     },
     "execution_count": 38,
     "metadata": {},
     "output_type": "execute_result"
    }
   ],
   "source": [
    "list_item[2] ## accessing the 3 element from list"
   ]
  },
  {
   "cell_type": "code",
   "execution_count": 43,
   "id": "c9d797d7-fa06-4b1c-a758-ee47cf44d622",
   "metadata": {},
   "outputs": [
    {
     "data": {
      "text/plain": [
       "[2.1, 'Delhi', True, False]"
      ]
     },
     "execution_count": 43,
     "metadata": {},
     "output_type": "execute_result"
    }
   ],
   "source": [
    "list_item[2:] ## item from the list from 3rd onwards"
   ]
  },
  {
   "cell_type": "code",
   "execution_count": 40,
   "id": "5db16e17-dbff-4642-b0e8-b2bf9212c7d4",
   "metadata": {},
   "outputs": [
    {
     "data": {
      "text/plain": [
       "['Danish', 3, 2.1, 'Delhi', True, False]"
      ]
     },
     "execution_count": 40,
     "metadata": {},
     "output_type": "execute_result"
    }
   ],
   "source": [
    "list_item[:] ## give all the items"
   ]
  },
  {
   "cell_type": "code",
   "execution_count": 41,
   "id": "aa6d6a07-c18f-4422-bf8a-7271d1da9450",
   "metadata": {},
   "outputs": [
    {
     "data": {
      "text/plain": [
       "['Danish', 3, 2.1, 'Delhi', True]"
      ]
     },
     "execution_count": 41,
     "metadata": {},
     "output_type": "execute_result"
    }
   ],
   "source": [
    "list_item[:5] ## item from the list upto 5th"
   ]
  },
  {
   "cell_type": "code",
   "execution_count": 44,
   "id": "1ce67c9c-4590-403e-a3ec-3c775e03d717",
   "metadata": {},
   "outputs": [
    {
     "data": {
      "text/plain": [
       "[2.1, 'Delhi', True]"
      ]
     },
     "execution_count": 44,
     "metadata": {},
     "output_type": "execute_result"
    }
   ],
   "source": [
    "list_item[2:5] ## item from the list from 3rd to 5th excluding 5th\n"
   ]
  },
  {
   "cell_type": "code",
   "execution_count": 48,
   "id": "587be329-8111-4fb2-b6b3-32ea01156d2f",
   "metadata": {},
   "outputs": [
    {
     "data": {
      "text/plain": [
       "['Danish', 3, 2.1, 'Delhi', True, False]"
      ]
     },
     "execution_count": 48,
     "metadata": {},
     "output_type": "execute_result"
    }
   ],
   "source": [
    "list_item"
   ]
  },
  {
   "cell_type": "code",
   "execution_count": 45,
   "id": "20e93ed6-2f38-4c82-92ae-c3aebbb22dc5",
   "metadata": {},
   "outputs": [
    {
     "data": {
      "text/plain": [
       "[False, True, 'Delhi', 2.1, 3, 'Danish']"
      ]
     },
     "execution_count": 45,
     "metadata": {},
     "output_type": "execute_result"
    }
   ],
   "source": [
    "list_item[::-1] ## Reverse elements inside the list but original list will not change\n"
   ]
  },
  {
   "cell_type": "code",
   "execution_count": 51,
   "id": "005980f3-20ee-45f1-8e6a-4ec45d170bc0",
   "metadata": {},
   "outputs": [
    {
     "data": {
      "text/plain": [
       "[2.1, 'Delhi', True]"
      ]
     },
     "execution_count": 51,
     "metadata": {},
     "output_type": "execute_result"
    }
   ],
   "source": [
    "list_item[2:5:1] "
   ]
  },
  {
   "cell_type": "code",
   "execution_count": 52,
   "id": "be6ec312-b6d8-49b5-8ea5-a9d87c69243b",
   "metadata": {},
   "outputs": [
    {
     "ename": "TypeError",
     "evalue": "can only concatenate list (not \"str\") to list",
     "output_type": "error",
     "traceback": [
      "\u001b[1;31m---------------------------------------------------------------------------\u001b[0m",
      "\u001b[1;31mTypeError\u001b[0m                                 Traceback (most recent call last)",
      "Cell \u001b[1;32mIn[52], line 1\u001b[0m\n\u001b[1;32m----> 1\u001b[0m [\u001b[38;5;241m1\u001b[39m,\u001b[38;5;241m2\u001b[39m,\u001b[38;5;241m20.25\u001b[39m,\u001b[38;5;124m\"\u001b[39m\u001b[38;5;124mDanish\u001b[39m\u001b[38;5;124m\"\u001b[39m] \u001b[38;5;241m+\u001b[39m \u001b[38;5;124m\"\u001b[39m\u001b[38;5;124mMalik\u001b[39m\u001b[38;5;124m\"\u001b[39m\n",
      "\u001b[1;31mTypeError\u001b[0m: can only concatenate list (not \"str\") to list"
     ]
    }
   ],
   "source": [
    "[1,2,20.25,\"Danish\"] + \"Malik\" ## We cannot do the concatenate of list and str"
   ]
  },
  {
   "cell_type": "code",
   "execution_count": 53,
   "id": "c3022e5e-19b5-4bb8-8f8a-a2728295cfc2",
   "metadata": {},
   "outputs": [
    {
     "data": {
      "text/plain": [
       "[1, 2, 20.25, 'Danish', 'Malik', 90, 6.5]"
      ]
     },
     "execution_count": 53,
     "metadata": {},
     "output_type": "execute_result"
    }
   ],
   "source": [
    "[1,2,20.25,\"Danish\"] + [\"Malik\", 90, 6.5] ## List should be concatenated with list only"
   ]
  },
  {
   "cell_type": "markdown",
   "id": "57be753f-7c9b-4bbf-831c-6c6896f61909",
   "metadata": {},
   "source": [
    "# Append() Function"
   ]
  },
  {
   "cell_type": "code",
   "execution_count": 54,
   "id": "5b7f07e3-fe9d-43fa-8d1b-7db84546955b",
   "metadata": {},
   "outputs": [
    {
     "data": {
      "text/plain": [
       "['Danish', 3, 2.1, 'Delhi', True, False]"
      ]
     },
     "execution_count": 54,
     "metadata": {},
     "output_type": "execute_result"
    }
   ],
   "source": [
    "list_item"
   ]
  },
  {
   "cell_type": "code",
   "execution_count": 55,
   "id": "e0741d51-f3fd-4c42-83b2-30551ee56f60",
   "metadata": {},
   "outputs": [
    {
     "name": "stdout",
     "output_type": "stream",
     "text": [
      "['Danish', 3, 2.1, 'Delhi', True, False]\n"
     ]
    }
   ],
   "source": [
    "print(list_item) ## either above or we can use this both will five the same output"
   ]
  },
  {
   "cell_type": "code",
   "execution_count": 56,
   "id": "7baf8868-256a-4a4d-b103-f6d4977af22f",
   "metadata": {},
   "outputs": [],
   "source": [
    "Name = \"Danish\""
   ]
  },
  {
   "cell_type": "code",
   "execution_count": 58,
   "id": "6ac8a174-6406-412f-9bc4-8202e0e499e4",
   "metadata": {},
   "outputs": [
    {
     "data": {
      "text/plain": [
       "'s'"
      ]
     },
     "execution_count": 58,
     "metadata": {},
     "output_type": "execute_result"
    }
   ],
   "source": [
    "Name[len(Name)-2]\n"
   ]
  },
  {
   "cell_type": "code",
   "execution_count": 59,
   "id": "72b3d9f7-82bf-42d3-baa8-bc38259e09dc",
   "metadata": {},
   "outputs": [
    {
     "ename": "TypeError",
     "evalue": "'str' object does not support item assignment",
     "output_type": "error",
     "traceback": [
      "\u001b[1;31m---------------------------------------------------------------------------\u001b[0m",
      "\u001b[1;31mTypeError\u001b[0m                                 Traceback (most recent call last)",
      "Cell \u001b[1;32mIn[59], line 1\u001b[0m\n\u001b[1;32m----> 1\u001b[0m Name[\u001b[38;5;28mlen\u001b[39m(Name)\u001b[38;5;241m-\u001b[39m\u001b[38;5;241m2\u001b[39m] \u001b[38;5;241m=\u001b[39m \u001b[38;5;124m\"\u001b[39m\u001b[38;5;124mo\u001b[39m\u001b[38;5;124m\"\u001b[39m\n",
      "\u001b[1;31mTypeError\u001b[0m: 'str' object does not support item assignment"
     ]
    }
   ],
   "source": [
    "Name[len(Name)-2] = \"o\" ## str is immutable\n"
   ]
  },
  {
   "cell_type": "code",
   "execution_count": 60,
   "id": "38285e1b-c183-4e4b-80c7-01988d27b7de",
   "metadata": {},
   "outputs": [
    {
     "data": {
      "text/plain": [
       "['Danish', 3, 2.1, 'Delhi', True, False]"
      ]
     },
     "execution_count": 60,
     "metadata": {},
     "output_type": "execute_result"
    }
   ],
   "source": [
    "list_item"
   ]
  },
  {
   "cell_type": "code",
   "execution_count": 61,
   "id": "636abff7-5be6-435d-bd0a-6fbc9f863174",
   "metadata": {},
   "outputs": [],
   "source": [
    "list_item.append(\"Malik\") ## Adding items at end"
   ]
  },
  {
   "cell_type": "code",
   "execution_count": 62,
   "id": "39b5930c-2616-48ee-a059-f81e5b68db80",
   "metadata": {},
   "outputs": [
    {
     "data": {
      "text/plain": [
       "['Danish', 3, 2.1, 'Delhi', True, False, 'Malik']"
      ]
     },
     "execution_count": 62,
     "metadata": {},
     "output_type": "execute_result"
    }
   ],
   "source": [
    "list_item"
   ]
  },
  {
   "cell_type": "code",
   "execution_count": 65,
   "id": "447a0534-9c70-4bf4-bd23-f0d5954cdd41",
   "metadata": {},
   "outputs": [],
   "source": [
    "list_item.append([\"India\",90]) ## it will add list inside list"
   ]
  },
  {
   "cell_type": "code",
   "execution_count": 66,
   "id": "d7264c14-c11d-4841-a33c-efb23e5f20af",
   "metadata": {},
   "outputs": [
    {
     "data": {
      "text/plain": [
       "['Danish', 3, 2.1, 'Delhi', True, False, 'Malik', ['India', 90]]"
      ]
     },
     "execution_count": 66,
     "metadata": {},
     "output_type": "execute_result"
    }
   ],
   "source": [
    "list_item"
   ]
  },
  {
   "cell_type": "code",
   "execution_count": 68,
   "id": "98957a7a-277b-411f-ad87-5a9be24e1705",
   "metadata": {},
   "outputs": [
    {
     "data": {
      "text/plain": [
       "'India'"
      ]
     },
     "execution_count": 68,
     "metadata": {},
     "output_type": "execute_result"
    }
   ],
   "source": [
    "list_item[7][0] ##to access elements from list inside list use double square bracet"
   ]
  },
  {
   "cell_type": "markdown",
   "id": "2bc6aeed-5898-4ed3-8eec-3fef91277c59",
   "metadata": {},
   "source": [
    "# Insert() Function"
   ]
  },
  {
   "cell_type": "code",
   "execution_count": 69,
   "id": "24fe339d-483d-477b-9f38-126aac09a6b6",
   "metadata": {},
   "outputs": [
    {
     "data": {
      "text/plain": [
       "['Danish', 3, 2.1, 'Delhi', True, False, 'Malik', ['India', 90]]"
      ]
     },
     "execution_count": 69,
     "metadata": {},
     "output_type": "execute_result"
    }
   ],
   "source": [
    "list_item"
   ]
  },
  {
   "cell_type": "code",
   "execution_count": 73,
   "id": "72a928dc-90eb-415f-89fd-b1c6fc429f86",
   "metadata": {},
   "outputs": [],
   "source": [
    "list_item.insert(3,\"India\") # insert at 3rd position and other elements get shifted\n",
    "\n"
   ]
  },
  {
   "cell_type": "code",
   "execution_count": 74,
   "id": "19499c21-5079-474e-89c6-3d1827cf133b",
   "metadata": {},
   "outputs": [
    {
     "data": {
      "text/plain": [
       "['Danish',\n",
       " 3,\n",
       " 2.1,\n",
       " 'India',\n",
       " 'India',\n",
       " 'India',\n",
       " 'Delhi',\n",
       " True,\n",
       " False,\n",
       " 'Malik',\n",
       " ['India', 90]]"
      ]
     },
     "execution_count": 74,
     "metadata": {},
     "output_type": "execute_result"
    }
   ],
   "source": [
    "list_item"
   ]
  },
  {
   "cell_type": "code",
   "execution_count": 75,
   "id": "43508b7a-f370-4fc2-978a-ef8003130d69",
   "metadata": {},
   "outputs": [],
   "source": [
    "list_item.insert(5,[12,\"Data\"]) # insert at 3rd position and other elements get shifted\n"
   ]
  },
  {
   "cell_type": "code",
   "execution_count": 76,
   "id": "260ce53b-965d-4fbc-a33d-62cd629b5034",
   "metadata": {},
   "outputs": [
    {
     "data": {
      "text/plain": [
       "['Danish',\n",
       " 3,\n",
       " 2.1,\n",
       " 'India',\n",
       " 'India',\n",
       " [12, 'Data'],\n",
       " 'India',\n",
       " 'Delhi',\n",
       " True,\n",
       " False,\n",
       " 'Malik',\n",
       " ['India', 90]]"
      ]
     },
     "execution_count": 76,
     "metadata": {},
     "output_type": "execute_result"
    }
   ],
   "source": [
    "list_item"
   ]
  },
  {
   "cell_type": "code",
   "execution_count": 77,
   "id": "bc41f317-eda4-4050-9c09-fbb6f9befd63",
   "metadata": {},
   "outputs": [
    {
     "data": {
      "text/plain": [
       "'Data'"
      ]
     },
     "execution_count": 77,
     "metadata": {},
     "output_type": "execute_result"
    }
   ],
   "source": [
    "list_item[5][1]"
   ]
  },
  {
   "cell_type": "markdown",
   "id": "ed17ed94-0cd8-48e4-9f0d-cdfb861d6423",
   "metadata": {},
   "source": [
    "# Replace() Function"
   ]
  },
  {
   "cell_type": "code",
   "execution_count": 78,
   "id": "c96f48fe-531e-45b1-93e2-160e96bdac79",
   "metadata": {},
   "outputs": [
    {
     "ename": "AttributeError",
     "evalue": "'list' object has no attribute 'replace'",
     "output_type": "error",
     "traceback": [
      "\u001b[1;31m---------------------------------------------------------------------------\u001b[0m",
      "\u001b[1;31mAttributeError\u001b[0m                            Traceback (most recent call last)",
      "Cell \u001b[1;32mIn[78], line 1\u001b[0m\n\u001b[1;32m----> 1\u001b[0m list_item\u001b[38;5;241m.\u001b[39mreplace(\u001b[38;5;241m3\u001b[39m,\u001b[38;5;124m\"\u001b[39m\u001b[38;5;124mDanish\u001b[39m\u001b[38;5;124m\"\u001b[39m)\n",
      "\u001b[1;31mAttributeError\u001b[0m: 'list' object has no attribute 'replace'"
     ]
    }
   ],
   "source": [
    "list_item.replace(3,\"Danish\") ## Replace funtion is not available for list in python"
   ]
  },
  {
   "cell_type": "markdown",
   "id": "067cb916-a7bc-45d8-bbd5-6c451d4e8ce7",
   "metadata": {},
   "source": [
    "# Extend() Function"
   ]
  },
  {
   "cell_type": "code",
   "execution_count": 79,
   "id": "cb0a0598-9932-4316-b26b-2fe3ecbbc2aa",
   "metadata": {},
   "outputs": [],
   "source": [
    "s = [1,2,12.2, \"Danish\"]"
   ]
  },
  {
   "cell_type": "code",
   "execution_count": 80,
   "id": "929dd7cd-1523-466e-8fdf-f057086be985",
   "metadata": {},
   "outputs": [
    {
     "data": {
      "text/plain": [
       "[1, 2, 12.2, 'Danish']"
      ]
     },
     "execution_count": 80,
     "metadata": {},
     "output_type": "execute_result"
    }
   ],
   "source": [
    "s"
   ]
  },
  {
   "cell_type": "code",
   "execution_count": 84,
   "id": "e0610fdd-f47f-4d42-bc1b-7b68d0edeb2f",
   "metadata": {},
   "outputs": [],
   "source": [
    "s.append([\"Malik\",23])"
   ]
  },
  {
   "cell_type": "code",
   "execution_count": 85,
   "id": "0811de2c-dca1-46e5-b360-70f202d6d07c",
   "metadata": {},
   "outputs": [
    {
     "data": {
      "text/plain": [
       "[1, 2, 12.2, 'Danish', 'Malik', ['Malik', 23]]"
      ]
     },
     "execution_count": 85,
     "metadata": {},
     "output_type": "execute_result"
    }
   ],
   "source": [
    "s"
   ]
  },
  {
   "cell_type": "code",
   "execution_count": 88,
   "id": "364ff903-4a79-4560-a9a4-a5df2682e35e",
   "metadata": {},
   "outputs": [],
   "source": [
    "s.extend([\"Delhi\", 11, 0.1] )## add elements individually and not together unlike append"
   ]
  },
  {
   "cell_type": "code",
   "execution_count": 90,
   "id": "0dd26e7e-3f39-41e5-bdbe-31eca78d9eea",
   "metadata": {},
   "outputs": [
    {
     "data": {
      "text/plain": [
       "[1, 2, 12.2, 'Danish', 'Malik', ['Malik', 23], 'Delhi', 11, 0.1]"
      ]
     },
     "execution_count": 90,
     "metadata": {},
     "output_type": "execute_result"
    }
   ],
   "source": [
    "s "
   ]
  },
  {
   "cell_type": "code",
   "execution_count": 93,
   "id": "ec0eeb8e-00ac-4e88-bfe7-452663611214",
   "metadata": {},
   "outputs": [
    {
     "data": {
      "text/plain": [
       "3"
      ]
     },
     "execution_count": 93,
     "metadata": {},
     "output_type": "execute_result"
    }
   ],
   "source": [
    "s.index('Danish')"
   ]
  },
  {
   "cell_type": "markdown",
   "id": "f0feaffe-ea02-4f28-8e7b-b892a0c81379",
   "metadata": {},
   "source": [
    "# Reverse() Function"
   ]
  },
  {
   "cell_type": "code",
   "execution_count": 110,
   "id": "121d1bf0-fe46-4577-bde2-d6f1c4e2b0e3",
   "metadata": {},
   "outputs": [
    {
     "data": {
      "text/plain": [
       "['Danish',\n",
       " 3,\n",
       " 2.1,\n",
       " 'India',\n",
       " 'India',\n",
       " [12, 'Data'],\n",
       " 'India',\n",
       " 'Delhi',\n",
       " True,\n",
       " False,\n",
       " 'Malik',\n",
       " ['India', 90]]"
      ]
     },
     "execution_count": 110,
     "metadata": {},
     "output_type": "execute_result"
    }
   ],
   "source": [
    "list_item"
   ]
  },
  {
   "cell_type": "code",
   "execution_count": 111,
   "id": "fe5a3b90-d4bb-4d90-abeb-98d5e69acfcc",
   "metadata": {},
   "outputs": [],
   "source": [
    "list_item_copy = list_item.copy()"
   ]
  },
  {
   "cell_type": "code",
   "execution_count": 112,
   "id": "f69b4a74-b3b0-4ff1-9f0a-e6a1084d513f",
   "metadata": {},
   "outputs": [],
   "source": [
    "list_item_copy.reverse() ## it will reverse the elements inside the list and original list will change"
   ]
  },
  {
   "cell_type": "code",
   "execution_count": 113,
   "id": "22d66423-e2cf-4f70-95b5-baac89686958",
   "metadata": {},
   "outputs": [
    {
     "data": {
      "text/plain": [
       "[['India', 90],\n",
       " 'Malik',\n",
       " False,\n",
       " True,\n",
       " 'Delhi',\n",
       " 'India',\n",
       " [12, 'Data'],\n",
       " 'India',\n",
       " 'India',\n",
       " 2.1,\n",
       " 3,\n",
       " 'Danish']"
      ]
     },
     "execution_count": 113,
     "metadata": {},
     "output_type": "execute_result"
    }
   ],
   "source": [
    "list_item_copy"
   ]
  },
  {
   "cell_type": "markdown",
   "id": "8d058230-7864-4797-966a-a26faec3b18e",
   "metadata": {},
   "source": [
    "# Sort() Funtion"
   ]
  },
  {
   "cell_type": "code",
   "execution_count": 114,
   "id": "24f02794-2f82-4a65-8b2e-79f3581cb36c",
   "metadata": {},
   "outputs": [],
   "source": [
    "list_item2 = [\"Danish\", \"Malik\", \"Delhi\"]"
   ]
  },
  {
   "cell_type": "code",
   "execution_count": 119,
   "id": "90f2c819-c039-46ab-94c4-4703d47afe4a",
   "metadata": {},
   "outputs": [],
   "source": [
    "list_item2_sorted = sorted(list_item2) ## sorted can be use for re-assigning and will not change the original"
   ]
  },
  {
   "cell_type": "code",
   "execution_count": 120,
   "id": "01d42032-4e1d-4430-99b0-128f6d32e770",
   "metadata": {},
   "outputs": [
    {
     "data": {
      "text/plain": [
       "['Danish', 'Delhi', 'Malik']"
      ]
     },
     "execution_count": 120,
     "metadata": {},
     "output_type": "execute_result"
    }
   ],
   "source": [
    "list_item2_sorted"
   ]
  },
  {
   "cell_type": "code",
   "execution_count": 121,
   "id": "b1e0dfce-98e1-4fbd-93dd-aa10819c1694",
   "metadata": {},
   "outputs": [
    {
     "data": {
      "text/plain": [
       "['Danish', 'Malik', 'Delhi']"
      ]
     },
     "execution_count": 121,
     "metadata": {},
     "output_type": "execute_result"
    }
   ],
   "source": [
    "list_item2"
   ]
  },
  {
   "cell_type": "code",
   "execution_count": 115,
   "id": "ef9d29f4-ce47-437d-8c3e-0afb83873046",
   "metadata": {},
   "outputs": [],
   "source": [
    "list_item2_copy = list_item2.copy()"
   ]
  },
  {
   "cell_type": "code",
   "execution_count": 116,
   "id": "a08f4ef4-284d-48ef-a48b-f711b59ac9c4",
   "metadata": {},
   "outputs": [],
   "source": [
    "list_item2_copy.sort() ## it will sort the lsit"
   ]
  },
  {
   "cell_type": "code",
   "execution_count": 117,
   "id": "d327b85f-2a8a-4617-acc3-f126560a2a4b",
   "metadata": {},
   "outputs": [
    {
     "data": {
      "text/plain": [
       "['Danish', 'Delhi', 'Malik']"
      ]
     },
     "execution_count": 117,
     "metadata": {},
     "output_type": "execute_result"
    }
   ],
   "source": [
    "list_item2_copy"
   ]
  },
  {
   "cell_type": "code",
   "execution_count": 118,
   "id": "5558367a-6c23-48d2-90c0-a0f7209679e4",
   "metadata": {},
   "outputs": [],
   "source": [
    "list = ['d','a','c','b']"
   ]
  },
  {
   "cell_type": "code",
   "execution_count": 103,
   "id": "31a259cd-02f1-4847-b727-83249de0ec50",
   "metadata": {},
   "outputs": [],
   "source": [
    "list.sort() ## For ascending order"
   ]
  },
  {
   "cell_type": "code",
   "execution_count": 104,
   "id": "5081850c-5ee5-44f8-a853-f552ef91c7f7",
   "metadata": {},
   "outputs": [
    {
     "data": {
      "text/plain": [
       "['a', 'b', 'c', 'd']"
      ]
     },
     "execution_count": 104,
     "metadata": {},
     "output_type": "execute_result"
    }
   ],
   "source": [
    "list\n"
   ]
  },
  {
   "cell_type": "code",
   "execution_count": 105,
   "id": "75b7035b-cffc-4ea4-aa3d-3db28c5f9f3d",
   "metadata": {},
   "outputs": [],
   "source": [
    "list.sort(reverse = True) ## for descending order use (reverse = True)"
   ]
  },
  {
   "cell_type": "code",
   "execution_count": 106,
   "id": "664645d2-419d-4f4a-8f07-89b9ad75e729",
   "metadata": {},
   "outputs": [
    {
     "data": {
      "text/plain": [
       "['d', 'c', 'b', 'a']"
      ]
     },
     "execution_count": 106,
     "metadata": {},
     "output_type": "execute_result"
    }
   ],
   "source": [
    "list"
   ]
  },
  {
   "cell_type": "code",
   "execution_count": 125,
   "id": "7d894efb-84e6-4c57-8b63-83f75e4a15b4",
   "metadata": {},
   "outputs": [],
   "source": [
    "list_item_number= [1,6,3,51,25,63,93,62]"
   ]
  },
  {
   "cell_type": "code",
   "execution_count": 127,
   "id": "80912ae9-824b-4eda-98db-05245facf5b5",
   "metadata": {},
   "outputs": [],
   "source": [
    "list_item_number_sort_asc = sorted(list_item_number)\n",
    "list_item_number_sort_dsc = sorted(list_item_number, reverse=True)\n"
   ]
  },
  {
   "cell_type": "code",
   "execution_count": 131,
   "id": "6fef0482-acf3-4c96-81c4-37811ee87c6c",
   "metadata": {},
   "outputs": [
    {
     "name": "stdout",
     "output_type": "stream",
     "text": [
      "[1, 3, 6, 25, 51, 62, 63, 93]\n",
      "[93, 63, 62, 51, 25, 6, 3, 1]\n"
     ]
    }
   ],
   "source": [
    "print(list_item_number_sort_asc)\n",
    "print(list_item_number_sort_dsc)"
   ]
  },
  {
   "cell_type": "code",
   "execution_count": 136,
   "id": "6753f684-d584-4625-a05e-a4b3326c3d13",
   "metadata": {},
   "outputs": [
    {
     "data": {
      "text/plain": [
       "[1, 6, 3, 51, 25, 63, 93, 62]"
      ]
     },
     "execution_count": 136,
     "metadata": {},
     "output_type": "execute_result"
    }
   ],
   "source": [
    "list_item_number"
   ]
  },
  {
   "cell_type": "markdown",
   "id": "5407fd25-cb4e-4780-b51f-44bf2c464039",
   "metadata": {},
   "source": [
    "# List Comprehension"
   ]
  },
  {
   "cell_type": "code",
   "execution_count": 29,
   "id": "826695ab-3fdb-4ff0-a7b1-ae75c2da736e",
   "metadata": {},
   "outputs": [],
   "source": [
    "list1 = [i for i in range(5)] ## create a list of 5 elmemnts starting from 0 to 4"
   ]
  },
  {
   "cell_type": "code",
   "execution_count": 30,
   "id": "6f0066c3-f9c3-4824-9664-00177c2cdc4b",
   "metadata": {},
   "outputs": [
    {
     "data": {
      "text/plain": [
       "[0, 1, 2, 3, 4]"
      ]
     },
     "execution_count": 30,
     "metadata": {},
     "output_type": "execute_result"
    }
   ],
   "source": [
    "list1"
   ]
  },
  {
   "cell_type": "code",
   "execution_count": 31,
   "id": "8d23fb77-4a74-4c1a-8723-2ab2986013b1",
   "metadata": {},
   "outputs": [],
   "source": [
    "list2 = [i*i for i in range(5)] ## create a list of 5 elmemnts starting from 0 to 4, each elemnt having value as a square"
   ]
  },
  {
   "cell_type": "code",
   "execution_count": 32,
   "id": "25dd60f4-16df-4dd6-a490-c9140a8a90d4",
   "metadata": {},
   "outputs": [
    {
     "data": {
      "text/plain": [
       "[0, 1, 4, 9, 16]"
      ]
     },
     "execution_count": 32,
     "metadata": {},
     "output_type": "execute_result"
    }
   ],
   "source": [
    "list2\n"
   ]
  },
  {
   "cell_type": "code",
   "execution_count": 33,
   "id": "7ddceb62-b948-490a-badb-0ae4b0a3b8c6",
   "metadata": {},
   "outputs": [],
   "source": [
    "list3 = [pow(i, 3) for i in range(1,4)]"
   ]
  },
  {
   "cell_type": "code",
   "execution_count": 34,
   "id": "c9cb8e13-1920-46ad-9ead-174c6914e0d7",
   "metadata": {},
   "outputs": [
    {
     "data": {
      "text/plain": [
       "[1, 8, 27]"
      ]
     },
     "execution_count": 34,
     "metadata": {},
     "output_type": "execute_result"
    }
   ],
   "source": [
    "list3"
   ]
  },
  {
   "cell_type": "code",
   "execution_count": 39,
   "id": "6b3467aa-4306-4be4-84b2-4975f2cbdbf3",
   "metadata": {},
   "outputs": [],
   "source": [
    "L = [120, 100, 150, 200]\n",
    "list4 = [i*10 for i in L]  ## this is how you can increase the item by 10 times "
   ]
  },
  {
   "cell_type": "code",
   "execution_count": 40,
   "id": "9d346fdf-15cd-4d9c-84da-3b9430ed0af4",
   "metadata": {},
   "outputs": [
    {
     "data": {
      "text/plain": [
       "[1200, 1000, 1500, 2000]"
      ]
     },
     "execution_count": 40,
     "metadata": {},
     "output_type": "execute_result"
    }
   ],
   "source": [
    "list4"
   ]
  },
  {
   "cell_type": "code",
   "execution_count": null,
   "id": "a48c378c-db8c-4d78-997c-5715b884a130",
   "metadata": {},
   "outputs": [],
   "source": []
  }
 ],
 "metadata": {
  "kernelspec": {
   "display_name": "Python 3 (ipykernel)",
   "language": "python",
   "name": "python3"
  },
  "language_info": {
   "codemirror_mode": {
    "name": "ipython",
    "version": 3
   },
   "file_extension": ".py",
   "mimetype": "text/x-python",
   "name": "python",
   "nbconvert_exporter": "python",
   "pygments_lexer": "ipython3",
   "version": "3.12.7"
  }
 },
 "nbformat": 4,
 "nbformat_minor": 5
}
